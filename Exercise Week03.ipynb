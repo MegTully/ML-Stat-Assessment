{
 "cells": [
  {
   "cell_type": "markdown",
   "id": "02ede46d",
   "metadata": {},
   "source": [
    "<h1 style=\"color: #001a79;\">Task</h1>\n",
    "\n",
    "Take the code from the <a href=\"https://docs.scipy.org/doc/scipy/reference/generated/scipy.stats.ttest_ind.html\" style=\"color: #ff791e\">Examples section of the scipy stats documentation for independent samples t-tests</a>, add it to your own notebook and add explain how it works using MarkDown cells and code comments. Improve it in any way you think it could be improved.\n",
    "<hr style=\"border-top: 1px solid #001a79;\" />"
   ]
  },
  {
   "cell_type": "markdown",
   "id": "c40d70e1",
   "metadata": {},
   "source": [
    "Step 1: Install all necessary packages"
   ]
  },
  {
   "cell_type": "code",
   "execution_count": 2,
   "id": "e5f21a27",
   "metadata": {},
   "outputs": [],
   "source": [
    "#import numpy package\n",
    "import numpy as np\n",
    "#import stats package from scipy\n",
    "from scipy import stats"
   ]
  },
  {
   "cell_type": "markdown",
   "id": "1f9579f6",
   "metadata": {},
   "source": [
    "Step 2:Create a range of random numbers in a wide range of distributions to choose from in the functions to follow"
   ]
  },
  {
   "cell_type": "code",
   "execution_count": 3,
   "id": "1259a6cb",
   "metadata": {},
   "outputs": [],
   "source": [
    "#Create a variable called \"rng\" which is equal to an array of randomly generated numbers\n",
    "rng = np.random.default_rng()"
   ]
  },
  {
   "cell_type": "markdown",
   "id": "6de5f624",
   "metadata": {},
   "source": [
    "Step 3:Create 2 random variable samples, with normal distribution and have identical means and standard deviation. Then run an independent t-test on them."
   ]
  },
  {
   "cell_type": "code",
   "execution_count": 4,
   "id": "96901702",
   "metadata": {},
   "outputs": [
    {
     "data": {
      "text/plain": [
       "Ttest_indResult(statistic=0.15996693144197505, pvalue=0.8729394934882427)"
      ]
     },
     "execution_count": 4,
     "metadata": {},
     "output_type": "execute_result"
    }
   ],
   "source": [
    "#Create 2 random variable samples,using the \"stats.norm.rvs\" function, called \"rvs1\" and \"rvs2\"\n",
    "#The parameters: loc= mean, scale= st dev, size= sample size, random_state= select variables from our rng array above\n",
    "rvs1 = stats.norm.rvs(loc=5, scale=10, size=500, random_state=rng)\n",
    "rvs2 = stats.norm.rvs(loc=5, scale=10, size=500, random_state=rng)\n",
    "#Use stats.ttest_ind function to run a t-test on our 2 samples\n",
    "stats.ttest_ind(rvs1, rvs2)"
   ]
  },
  {
   "cell_type": "markdown",
   "id": "9408fe9b",
   "metadata": {},
   "source": [
    "Results:The t-test statistics is 0.15996693 and the corresponding p-value is equal to 0.872939\n",
    "<hr style=\"border-top: 1px solid #001a79;\" />\n",
    "<h4 style=\"color: #001a79;\">Experiment with parameters</h4>"
   ]
  },
  {
   "cell_type": "markdown",
   "id": "b63de71a",
   "metadata": {},
   "source": [
    "The t-test assumes equal population variance but the t-test often underestimates the p-value for unequal variance"
   ]
  },
  {
   "cell_type": "markdown",
   "id": "062e610e",
   "metadata": {},
   "source": [
    "Below the variance is set to unequal but there is no change in results as the mean and st dev of the 2 samples is the same so the variance is equal"
   ]
  },
  {
   "cell_type": "code",
   "execution_count": 16,
   "id": "e7b960ce",
   "metadata": {},
   "outputs": [
    {
     "data": {
      "text/plain": [
       "Ttest_indResult(statistic=0.15996693144197505, pvalue=0.8729395105519876)"
      ]
     },
     "execution_count": 16,
     "metadata": {},
     "output_type": "execute_result"
    }
   ],
   "source": [
    "#You can set equal_var to False if the population variance is unequal which in this case makes no diff from above\n",
    "stats.ttest_ind(rvs1, rvs2, equal_var=False)"
   ]
  },
  {
   "cell_type": "markdown",
   "id": "dab09581",
   "metadata": {},
   "source": [
    "Compare the results of changing the equal_var parameter using samples with different standard deviations:"
   ]
  },
  {
   "cell_type": "code",
   "execution_count": 6,
   "id": "1f134f27",
   "metadata": {},
   "outputs": [
    {
     "data": {
      "text/plain": [
       "Ttest_indResult(statistic=-0.07701869525176737, pvalue=0.9386241097868785)"
      ]
     },
     "execution_count": 6,
     "metadata": {},
     "output_type": "execute_result"
    }
   ],
   "source": [
    "#Create a third random variable sample similar to previously except change the loc/mean and scale/st dev\n",
    "#equal_var=True by default\n",
    "rvs3 = stats.norm.rvs(loc=5, scale=20, size=500, random_state=rng)\n",
    "stats.ttest_ind(rvs1, rvs3)"
   ]
  },
  {
   "cell_type": "code",
   "execution_count": 7,
   "id": "4772acac",
   "metadata": {},
   "outputs": [
    {
     "data": {
      "text/plain": [
       "Ttest_indResult(statistic=-0.07701869525176736, pvalue=0.9386301706607502)"
      ]
     },
     "execution_count": 7,
     "metadata": {},
     "output_type": "execute_result"
    }
   ],
   "source": [
    "#Run the test again but change equal_var to equal False\n",
    "stats.ttest_ind(rvs1, rvs3, equal_var=False)"
   ]
  },
  {
   "cell_type": "markdown",
   "id": "054532ef",
   "metadata": {},
   "source": [
    "Results:This time the p-value changed by increasing when variance was stated as unequal"
   ]
  },
  {
   "cell_type": "markdown",
   "id": "47ca655c",
   "metadata": {},
   "source": [
    "Next try changing the sample size so they are not equal but have equal means:"
   ]
  },
  {
   "cell_type": "code",
   "execution_count": 8,
   "id": "341b1d83",
   "metadata": {},
   "outputs": [
    {
     "data": {
      "text/plain": [
       "Ttest_indResult(statistic=0.4486055483094085, pvalue=0.6538787361196783)"
      ]
     },
     "execution_count": 8,
     "metadata": {},
     "output_type": "execute_result"
    }
   ],
   "source": [
    "#change sample size to 100\n",
    "rvs4 = stats.norm.rvs(loc=5, scale=20, size=100, random_state=rng)\n",
    "stats.ttest_ind(rvs1, rvs4)"
   ]
  },
  {
   "cell_type": "code",
   "execution_count": 9,
   "id": "22228193",
   "metadata": {},
   "outputs": [
    {
     "data": {
      "text/plain": [
       "Ttest_indResult(statistic=0.30774192053708693, pvalue=0.7588546534832463)"
      ]
     },
     "execution_count": 9,
     "metadata": {},
     "output_type": "execute_result"
    }
   ],
   "source": [
    "#run again with equal_var set to false\n",
    "stats.ttest_ind(rvs1, rvs4, equal_var=False)"
   ]
  },
  {
   "cell_type": "markdown",
   "id": "a671412d",
   "metadata": {},
   "source": [
    "Result:Two random variable samples of different sizes but same means have different t-test and p-value statistics when changing from equal population variance to unequal population variance"
   ]
  },
  {
   "cell_type": "markdown",
   "id": "12b7cc13",
   "metadata": {},
   "source": [
    "Lastly try compare variances of two samples that have different means,st dev and size"
   ]
  },
  {
   "cell_type": "code",
   "execution_count": 10,
   "id": "43dadb1e",
   "metadata": {},
   "outputs": [
    {
     "data": {
      "text/plain": [
       "Ttest_indResult(statistic=-2.009960191604169, pvalue=0.044884034032089744)"
      ]
     },
     "execution_count": 10,
     "metadata": {},
     "output_type": "execute_result"
    }
   ],
   "source": [
    "#create a new sample with diff mean, scale and size to sample 1\n",
    "rvs5 = stats.norm.rvs(loc=8, scale=20, size=100, random_state=rng)\n",
    "stats.ttest_ind(rvs1, rvs5)"
   ]
  },
  {
   "cell_type": "code",
   "execution_count": 11,
   "id": "1cbc2685",
   "metadata": {},
   "outputs": [
    {
     "data": {
      "text/plain": [
       "Ttest_indResult(statistic=-1.3860962253433327, pvalue=0.16848607453524933)"
      ]
     },
     "execution_count": 11,
     "metadata": {},
     "output_type": "execute_result"
    }
   ],
   "source": [
    "#run again with equal_var set to false\n",
    "stats.ttest_ind(rvs1, rvs5, equal_var=False)"
   ]
  },
  {
   "cell_type": "markdown",
   "id": "40d73d29",
   "metadata": {},
   "source": [
    "Results:As you can see there is an even larger difference between the results for equal population variance vs. unequal population variance\n",
    "<hr style=\"border-top: 1px solid #001a79;\" />"
   ]
  },
  {
   "cell_type": "markdown",
   "id": "557bdc10",
   "metadata": {},
   "source": [
    "Note: More permutations mean more accurate results therefore you can insert a permutations parameter"
   ]
  },
  {
   "cell_type": "code",
   "execution_count": 12,
   "id": "4d53825f",
   "metadata": {},
   "outputs": [
    {
     "data": {
      "text/plain": [
       "Ttest_indResult(statistic=-2.009960191604169, pvalue=0.0416)"
      ]
     },
     "execution_count": 12,
     "metadata": {},
     "output_type": "execute_result"
    }
   ],
   "source": [
    "#Insert a permutations parameter equal to 10000\n",
    "stats.ttest_ind(rvs1, rvs5, permutations=10000,random_state=rng)"
   ]
  },
  {
   "cell_type": "markdown",
   "id": "8c9d559b",
   "metadata": {},
   "source": [
    "<hr style=\"border-top: 1px solid #001a79;\" />\n",
    "<h4 style=\"color: #001a79;\">Example</h4>"
   ]
  },
  {
   "cell_type": "code",
   "execution_count": 13,
   "id": "5bd726e1",
   "metadata": {},
   "outputs": [],
   "source": [
    "#Create 2 samples a and b which are a list of random numbers\n",
    "a = (56, 128.6, 12, 123.8, 64.34, 78, 763.3)\n",
    "b = (1.1, 2.9, 4.2)"
   ]
  },
  {
   "cell_type": "code",
   "execution_count": 14,
   "id": "c9c0abd1",
   "metadata": {},
   "outputs": [
    {
     "data": {
      "text/plain": [
       "Ttest_indResult(statistic=3.4463884028073513, pvalue=0.01369338726499547)"
      ]
     },
     "execution_count": 14,
     "metadata": {},
     "output_type": "execute_result"
    }
   ],
   "source": [
    "#run ttest function on the 2 samples\n",
    "#trim defines the fraction of elements to be trimmed from each end of the samples which is set to 20%\n",
    "stats.ttest_ind(a, b, trim=.2)"
   ]
  }
 ],
 "metadata": {
  "kernelspec": {
   "display_name": "Python 3 (ipykernel)",
   "language": "python",
   "name": "python3"
  },
  "language_info": {
   "codemirror_mode": {
    "name": "ipython",
    "version": 3
   },
   "file_extension": ".py",
   "mimetype": "text/x-python",
   "name": "python",
   "nbconvert_exporter": "python",
   "pygments_lexer": "ipython3",
   "version": "3.9.7"
  }
 },
 "nbformat": 4,
 "nbformat_minor": 5
}

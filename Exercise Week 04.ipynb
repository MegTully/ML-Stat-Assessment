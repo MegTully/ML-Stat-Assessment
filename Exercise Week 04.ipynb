{
 "cells": [
  {
   "cell_type": "markdown",
   "id": "ece8f6c4",
   "metadata": {},
   "source": [
    "<h3 style=\"color: #001a79;\">Exercise</h3>\n",
    "\n",
    "<hr style=\"border-top: 1px solid #001a79;\" />\n",
    "\n",
    "Use numpy and matplotlib to plot the absolute value function.\n",
    "\n",
    "Research and explain why the absolute value function is not typically used in fitting straight lines to data"
   ]
  },
  {
   "cell_type": "markdown",
   "id": "41d8b17c",
   "metadata": {},
   "source": [
    "1. Import the necessary python libraries"
   ]
  },
  {
   "cell_type": "code",
   "execution_count": 1,
   "id": "dad6d915",
   "metadata": {},
   "outputs": [],
   "source": [
    "# numpy allows us to work with numerical multi-dimensional arrays\n",
    "import numpy as np\n",
    "\n",
    "# matplotlib is a plotting library, which has a module pyplot for simple graphs\n",
    "import matplotlib.pyplot as plt"
   ]
  },
  {
   "cell_type": "markdown",
   "id": "043b1202",
   "metadata": {},
   "source": [
    "2. Plot Absolute Value Function (reference:https://docs.scipy.org/doc/numpy-1.6.0/reference/generated/numpy.absolute.html)"
   ]
  },
  {
   "cell_type": "code",
   "execution_count": 8,
   "id": "8795c5bc",
   "metadata": {},
   "outputs": [
    {
     "data": {
      "image/png": "[encoded data removed]",
      "text/plain": [
       "<Figure size 432x288 with 1 Axes>"
      ]
     },
     "metadata": {
      "needs_background": "light"
     },
     "output_type": "display_data"
    }
   ],
   "source": [
    "#create an array of evenly spaced numbers between -15 and 15\n",
    "#assign the array to the variable x\n",
    "x = np.linspace(-15, 15)\n",
    "#get the absolute value of the elements in the array \n",
    "#assign the array to the variable y\n",
    "y = np.absolute(arr) \n",
    "#plot the absolute values function and make it pink  \n",
    "plt.plot(x, y, color = \"magenta\") \n",
    "plt.show()"
   ]
  },
  {
   "cell_type": "markdown",
   "id": "c3da3dd7",
   "metadata": {},
   "source": [
    "Why the absolute value function is not typically used in fitting straight lines to data:"
   ]
  },
  {
   "cell_type": "markdown",
   "id": "24e70a90",
   "metadata": {},
   "source": [
    "1. When trying to minimize the error with linear regression we need to differentiate and the absolute value function is not diffrentiable.\n",
    "2. For absolute values you need much more samples to get a good fit than for least squares"
   ]
  },
  {
   "cell_type": "markdown",
   "id": "a7cad50e",
   "metadata": {},
   "source": [
    "References: https://math.stackexchange.com/questions/3580109/why-does-regression-use-least-squares-instead-of-least-absolute-values#:~:text=One%20of%20reasons%20is%20that%20the%20absolute%20value%20is%20not%20differentiable.&text=As%20mentioned%20by%20others%2C%20the,is%20the%20Maximum%2DLikelihood%20estimate.&text=%E2%80%93%20J.G.\n",
    "\n",
    "https://www.quora.com/The-method-of-least-squares-of-residuals-is-commonly-used-to-get-the-best-fit-with-linear-regression-The-reason-why-the-absolute-value-of-residuals-y-ypred-is-not-used-is-that\n",
    "\n",
    "https://cbe.udel.edu/wp-content/uploads/2019/03/FittingData.pdf"
   ]
  }
 ],
 "metadata": {
  "kernelspec": {
   "display_name": "Python 3 (ipykernel)",
   "language": "python",
   "name": "python3"
  },
  "language_info": {
   "codemirror_mode": {
    "name": "ipython",
    "version": 3
   },
   "file_extension": ".py",
   "mimetype": "text/x-python",
   "name": "python",
   "nbconvert_exporter": "python",
   "pygments_lexer": "ipython3",
   "version": "3.9.7"
  }
 },
 "nbformat": 4,
 "nbformat_minor": 5
}

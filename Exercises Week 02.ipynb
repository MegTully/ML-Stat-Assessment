{
 "cells": [
  {
   "cell_type": "markdown",
   "id": "d94e1b14",
   "metadata": {},
   "source": [
    "<h3 style=\"color: #001a79;\">Exercise</h3>\n",
    "\n",
    "<hr style=\"border-top: 1px solid #001a79;\" />\n",
    "\n",
    "The above gives about a 1.5% chance of randomly selecting the correct cups. Calculate the minimum number of cups of tea required to ensure the probability of randomly selecting the correct cups is less than or equal to 1%."
   ]
  },
  {
   "cell_type": "markdown",
   "id": "09b337df",
   "metadata": {},
   "source": [
    "The combinatorial function was gotten from https://stackoverflow.com/a/4941932"
   ]
  },
  {
   "cell_type": "code",
   "execution_count": 2,
   "id": "3e916840",
   "metadata": {},
   "outputs": [],
   "source": [
    "#Import math module\n",
    "import math"
   ]
  },
  {
   "cell_type": "code",
   "execution_count": 3,
   "id": "76f9d4e9",
   "metadata": {},
   "outputs": [
    {
     "data": {
      "text/plain": [
       "70"
      ]
     },
     "execution_count": 3,
     "metadata": {},
     "output_type": "execute_result"
    }
   ],
   "source": [
    "math.comb(8,4)"
   ]
  },
  {
   "cell_type": "code",
   "execution_count": 5,
   "id": "351b788a",
   "metadata": {},
   "outputs": [
    {
     "data": {
      "text/plain": [
       "252"
      ]
     },
     "execution_count": 5,
     "metadata": {},
     "output_type": "execute_result"
    }
   ],
   "source": [
    "math.comb(10,5)"
   ]
  },
  {
   "cell_type": "code",
   "execution_count": 6,
   "id": "d15f4712",
   "metadata": {},
   "outputs": [
    {
     "data": {
      "text/plain": [
       "0.003968253968253968"
      ]
     },
     "execution_count": 6,
     "metadata": {},
     "output_type": "execute_result"
    }
   ],
   "source": [
    "#The probability selecting 5 correct cups\n",
    "1/math.comb(10,5)"
   ]
  },
  {
   "cell_type": "markdown",
   "id": "5a4d279e",
   "metadata": {},
   "source": [
    "If we experiment with 10 cups in total, 5 with milk in first and 5 with tea in first then the chance of selecting randomly and knowing how each was made is 0.3968% which is much less than 1%."
   ]
  },
  {
   "cell_type": "markdown",
   "id": "2b2e2a9f",
   "metadata": {},
   "source": [
    "Since the exercise asks for the minimum number of cups required to get a probablility of less than 1% we could try 9 cups in total, 4 with milk in first and 5 with milk in after - or vice versa."
   ]
  },
  {
   "cell_type": "code",
   "execution_count": 8,
   "id": "283e8234",
   "metadata": {},
   "outputs": [
    {
     "data": {
      "text/plain": [
       "126"
      ]
     },
     "execution_count": 8,
     "metadata": {},
     "output_type": "execute_result"
    }
   ],
   "source": [
    "#The number of ways to select 4 cups from 9\n",
    "math.comb(9,4)"
   ]
  },
  {
   "cell_type": "code",
   "execution_count": 9,
   "id": "fa152bb6",
   "metadata": {},
   "outputs": [
    {
     "data": {
      "text/plain": [
       "0.007936507936507936"
      ]
     },
     "execution_count": 9,
     "metadata": {},
     "output_type": "execute_result"
    }
   ],
   "source": [
    "#The probability selecting 4 correct cups\n",
    "1/math.comb(9,4)"
   ]
  },
  {
   "cell_type": "markdown",
   "id": "24840912",
   "metadata": {},
   "source": [
    "Therefore the minimum number of cups required would be 9 in order to have less than 1% chance of picking the correct cups "
   ]
  },
  {
   "cell_type": "markdown",
   "id": "2b542085",
   "metadata": {},
   "source": [
    "*Bonus:* How many would be required if you were to let the taster get one cup wrong while maintaining the 1% threshold?"
   ]
  },
  {
   "cell_type": "code",
   "execution_count": null,
   "id": "d1cbe01a",
   "metadata": {},
   "outputs": [],
   "source": []
  },
  {
   "cell_type": "markdown",
   "id": "d16cfffb",
   "metadata": {},
   "source": [
    "<h3 style=\"color: #001a79;\">Exercise</h3>\n",
    "\n",
    "<hr style=\"border-top: 1px solid #001a79;\" />\n",
    "\n",
    "Use <a href=\"https://docs.scipy.org/doc/scipy/reference/generated/scipy.stats.fisher_exact.html\" style=\"color: #ff791e\">scipy's version of Fisher's exact test</a> to simulate the Lady Tasting Tea problem."
   ]
  },
  {
   "cell_type": "code",
   "execution_count": 10,
   "id": "00bacfa7",
   "metadata": {},
   "outputs": [],
   "source": [
    "#import scipy stats module\n",
    "import scipy.stats as ss"
   ]
  },
  {
   "cell_type": "code",
   "execution_count": 11,
   "id": "ac3b2495",
   "metadata": {},
   "outputs": [
    {
     "data": {
      "text/plain": [
       "<function scipy.stats.stats.fisher_exact(table, alternative='two-sided')>"
      ]
     },
     "execution_count": 11,
     "metadata": {},
     "output_type": "execute_result"
    }
   ],
   "source": [
    "ss.fisher_exact"
   ]
  },
  {
   "cell_type": "code",
   "execution_count": 15,
   "id": "69f99cda",
   "metadata": {},
   "outputs": [
    {
     "data": {
      "text/plain": [
       "0.028571428571428536"
      ]
     },
     "execution_count": 15,
     "metadata": {},
     "output_type": "execute_result"
    }
   ],
   "source": [
    "#fishers exact test prints the answer with the oddsratio but I just want the answer so assigned the values \n",
    "#variable names and then just asked for the answer back\n",
    "oddsratio,answer=ss.fisher_exact([[4,0],[0,4]])\n",
    "answer"
   ]
  },
  {
   "cell_type": "markdown",
   "id": "0b9541e8",
   "metadata": {},
   "source": [
    "Now we need to divide the answer by the number of ways that we can choose the first 4 correct cups, e.g the four cups with milk poured first, because then you will automatically know the next four have milk poured last. So we can divide by '8 choose 4' ways. "
   ]
  },
  {
   "cell_type": "markdown",
   "id": "48b919d2",
   "metadata": {},
   "source": [
    "In order to answer this question the following link was used to help gain an understanding https://towardsdatascience.com/fishers-exact-test-from-scratch-with-python-2b907f29e593"
   ]
  },
  {
   "cell_type": "code",
   "execution_count": 16,
   "id": "d40645bc",
   "metadata": {},
   "outputs": [
    {
     "data": {
      "text/plain": [
       "0.0004081632653061219"
      ]
     },
     "execution_count": 16,
     "metadata": {},
     "output_type": "execute_result"
    }
   ],
   "source": [
    "answer/math.comb(8,4)"
   ]
  },
  {
   "cell_type": "code",
   "execution_count": 19,
   "id": "04217439",
   "metadata": {},
   "outputs": [
    {
     "data": {
      "text/plain": [
       "2"
      ]
     },
     "execution_count": 19,
     "metadata": {},
     "output_type": "execute_result"
    }
   ],
   "source": [
    "math.comb(2,1)"
   ]
  }
 ],
 "metadata": {
  "kernelspec": {
   "display_name": "Python 3 (ipykernel)",
   "language": "python",
   "name": "python3"
  },
  "language_info": {
   "codemirror_mode": {
    "name": "ipython",
    "version": 3
   },
   "file_extension": ".py",
   "mimetype": "text/x-python",
   "name": "python",
   "nbconvert_exporter": "python",
   "pygments_lexer": "ipython3",
   "version": "3.9.7"
  }
 },
 "nbformat": 4,
 "nbformat_minor": 5
}

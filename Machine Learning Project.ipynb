{
 "cells": [
  {
   "cell_type": "markdown",
   "id": "bf257794",
   "metadata": {},
   "source": [
    "<h1 style=\"color: #8A2BE2;\"><center>Keras Timeseries Anomaly Detection using an Autoencoder</center></h1>\n",
    "\n",
    "This Project is an adaptation of the following documentation: https://keras.io/examples/timeseries/timeseries_anomaly_detection/"
   ]
  },
  {
   "cell_type": "markdown",
   "id": "e3d2ca4c",
   "metadata": {},
   "source": [
    "<h2 style=\"color: #8A2BE2;\">Introduction</h2>\n",
    "\n",
    "![alternatvie text](https://editor.analyticsvidhya.com/uploads/38009intro_anomaly_detection_plot.png)\n",
    "\n",
    "<h3>What is Anomaly Detection?</h3>\n",
    "Firstly an anomaly is an outcome we get that deviates from what we expected.[2] In the context of dealing with a data set, anomaly detection is a process where we can create algorithms to identify and show anomalies in the data.[3]\n",
    "<h4 style=\"color: #00008B;\">Real-World Example</h4>\n",
    "The image above contains a timeseries graph, lets say for example it shows your monthly online shopping costs. It plots your spending for the month of september during which your laptop got hacked. Someone purchased expensive items using your saved credit card details. At the beginning of the month we can see an unexpected spike in your spending which increases past your average spending for the rest of the month. This spike is an anomaly which is marked in the image by a red circle. \n",
    "\n",
    "<h3>Why is Anomaly Detection important ?</h3>\n",
    "Anomaly detection is used heavily in nearly every case involving data in today's world. One of the main areas is cybersecurity to identify data breaches or catch hackers. For the example I described above companies can use anomaly detection to notice a sudden increase in spending by a user and stop the purchase going through.[4]\n"
   ]
  },
  {
   "cell_type": "markdown",
   "id": "ed0d0f5d",
   "metadata": {},
   "source": [
    "<h3>Keras</h3>\n",
    "Keras is a simple classifier model which is used along with tensorflow to created machine learning models in python. It helps define neural newtworks in an understandable way.[5]\n",
    "\n",
    "***"
   ]
  },
  {
   "cell_type": "markdown",
   "id": "8409706e",
   "metadata": {},
   "source": [
    "<h2 style=\"color: #8A2BE2;\">Creating The Model</h2>"
   ]
  },
  {
   "cell_type": "markdown",
   "id": "2a172f9c",
   "metadata": {},
   "source": [
    "Before we begin the following packages need to be imported and installed if not already done:"
   ]
  },
  {
   "cell_type": "code",
   "execution_count": 1,
   "id": "15a26044",
   "metadata": {},
   "outputs": [],
   "source": [
    "#install and import necessary packages needed to create the model\n",
    "\n",
    "#Numerical arrays\n",
    "import numpy as np\n",
    "\n",
    "#Spreadsheet-like Data Frames \n",
    "import pandas as pd\n",
    "\n",
    "#Neural Networks\n",
    "import tensorflow.keras as keras\n",
    "\n",
    "#Plotting\n",
    "import matplotlib.pyplot as plt"
   ]
  },
  {
   "cell_type": "markdown",
   "id": "e42d9a8a",
   "metadata": {},
   "source": [
    "<h2 style=\"color: #8A2BE2;\">The Data</h2>\n",
    "The dataset we are using is called Numenta Anomaly Benchmark(NAB) and contains 50 labeled real-world timeseries data on streaming applications that was retrieved from the real world (e.g Twitter, Google) and also data that was generated artificially[6][7][8]. The dataset along with its documentation can be found on:<br>\n",
    "\n",
    "Kaggle: https://www.kaggle.com/datasets/boltzmannbrain/nab <br>\n",
    "Github: https://github.com/numenta/NAB"
   ]
  },
  {
   "cell_type": "markdown",
   "id": "fc0eb868",
   "metadata": {},
   "source": [
    "First let's define all the URLs we need to use"
   ]
  },
  {
   "cell_type": "code",
   "execution_count": 2,
   "id": "06972705",
   "metadata": {},
   "outputs": [],
   "source": [
    "# Root of URLs.\n",
    "root_url = 'https://raw.githubusercontent.com/numenta/NAB/master/data/'\n",
    "\n",
    "# Data file without anomaly.\n",
    "no_anomaly_url = root_url + 'artificialNoAnomaly/art_daily_small_noise.csv'\n",
    "\n",
    "# Data file with anomaly.\n",
    "with_anomaly_url = root_url + 'artificialWithAnomaly/art_daily_jumpsup.csv'"
   ]
  },
  {
   "cell_type": "code",
   "execution_count": 3,
   "id": "73748151",
   "metadata": {},
   "outputs": [
    {
     "data": {
      "text/plain": [
       "'https://raw.githubusercontent.com/numenta/NAB/master/data/artificialNoAnomaly/art_daily_small_noise.csv'"
      ]
     },
     "execution_count": 3,
     "metadata": {},
     "output_type": "execute_result"
    }
   ],
   "source": [
    "no_anomaly_url"
   ]
  },
  {
   "cell_type": "code",
   "execution_count": 4,
   "id": "e659e423",
   "metadata": {},
   "outputs": [
    {
     "data": {
      "text/plain": [
       "'https://raw.githubusercontent.com/numenta/NAB/master/data/artificialWithAnomaly/art_daily_jumpsup.csv'"
      ]
     },
     "execution_count": 4,
     "metadata": {},
     "output_type": "execute_result"
    }
   ],
   "source": [
    "with_anomaly_url"
   ]
  },
  {
   "cell_type": "markdown",
   "id": "a8fc9bde",
   "metadata": {},
   "source": [
    "Next we can read in the datafile and create dataframes for small_noise and daily_jumpsup.\n",
    "\n",
    "First Let's take a look at the small_noise dataframe which we will use as training set. This means we will train our model using this data. Our model will learn the patterns and properties of this data which contains no anomalies."
   ]
  },
  {
   "cell_type": "code",
   "execution_count": 5,
   "id": "5b53ca85",
   "metadata": {},
   "outputs": [],
   "source": [
    "# dataframe small noise taken from no_anomaly_url and set the timestamp column as the index\n",
    "df_small_noise = pd.read_csv(no_anomaly_url, parse_dates=True, index_col=\"timestamp\")"
   ]
  },
  {
   "cell_type": "code",
   "execution_count": 6,
   "id": "e623e7c7",
   "metadata": {},
   "outputs": [
    {
     "data": {
      "text/html": [
       "<div>\n",
       "<style scoped>\n",
       "    .dataframe tbody tr th:only-of-type {\n",
       "        vertical-align: middle;\n",
       "    }\n",
       "\n",
       "    .dataframe tbody tr th {\n",
       "        vertical-align: top;\n",
       "    }\n",
       "\n",
       "    .dataframe thead th {\n",
       "        text-align: right;\n",
       "    }\n",
       "</style>\n",
       "<table border=\"1\" class=\"dataframe\">\n",
       "  <thead>\n",
       "    <tr style=\"text-align: right;\">\n",
       "      <th></th>\n",
       "      <th>value</th>\n",
       "    </tr>\n",
       "    <tr>\n",
       "      <th>timestamp</th>\n",
       "      <th></th>\n",
       "    </tr>\n",
       "  </thead>\n",
       "  <tbody>\n",
       "    <tr>\n",
       "      <th>2014-04-01 00:00:00</th>\n",
       "      <td>18.324919</td>\n",
       "    </tr>\n",
       "    <tr>\n",
       "      <th>2014-04-01 00:05:00</th>\n",
       "      <td>21.970327</td>\n",
       "    </tr>\n",
       "    <tr>\n",
       "      <th>2014-04-01 00:10:00</th>\n",
       "      <td>18.624806</td>\n",
       "    </tr>\n",
       "    <tr>\n",
       "      <th>2014-04-01 00:15:00</th>\n",
       "      <td>21.953684</td>\n",
       "    </tr>\n",
       "    <tr>\n",
       "      <th>2014-04-01 00:20:00</th>\n",
       "      <td>21.909120</td>\n",
       "    </tr>\n",
       "  </tbody>\n",
       "</table>\n",
       "</div>"
      ],
      "text/plain": [
       "                         value\n",
       "timestamp                     \n",
       "2014-04-01 00:00:00  18.324919\n",
       "2014-04-01 00:05:00  21.970327\n",
       "2014-04-01 00:10:00  18.624806\n",
       "2014-04-01 00:15:00  21.953684\n",
       "2014-04-01 00:20:00  21.909120"
      ]
     },
     "execution_count": 6,
     "metadata": {},
     "output_type": "execute_result"
    }
   ],
   "source": [
    "# print out the first 5 lines of the dataframe\n",
    "df_small_noise.head()"
   ]
  },
  {
   "cell_type": "markdown",
   "id": "c7354c77",
   "metadata": {},
   "source": [
    "The dataset has 2 columns, a timestamp column and a value column."
   ]
  },
  {
   "cell_type": "code",
   "execution_count": 7,
   "id": "98ef0e18",
   "metadata": {},
   "outputs": [
    {
     "data": {
      "text/html": [
       "<div>\n",
       "<style scoped>\n",
       "    .dataframe tbody tr th:only-of-type {\n",
       "        vertical-align: middle;\n",
       "    }\n",
       "\n",
       "    .dataframe tbody tr th {\n",
       "        vertical-align: top;\n",
       "    }\n",
       "\n",
       "    .dataframe thead th {\n",
       "        text-align: right;\n",
       "    }\n",
       "</style>\n",
       "<table border=\"1\" class=\"dataframe\">\n",
       "  <thead>\n",
       "    <tr style=\"text-align: right;\">\n",
       "      <th></th>\n",
       "      <th>value</th>\n",
       "    </tr>\n",
       "  </thead>\n",
       "  <tbody>\n",
       "    <tr>\n",
       "      <th>count</th>\n",
       "      <td>4032.000000</td>\n",
       "    </tr>\n",
       "    <tr>\n",
       "      <th>mean</th>\n",
       "      <td>42.438353</td>\n",
       "    </tr>\n",
       "    <tr>\n",
       "      <th>std</th>\n",
       "      <td>28.077122</td>\n",
       "    </tr>\n",
       "    <tr>\n",
       "      <th>min</th>\n",
       "      <td>18.000964</td>\n",
       "    </tr>\n",
       "    <tr>\n",
       "      <th>25%</th>\n",
       "      <td>19.841390</td>\n",
       "    </tr>\n",
       "    <tr>\n",
       "      <th>50%</th>\n",
       "      <td>21.608487</td>\n",
       "    </tr>\n",
       "    <tr>\n",
       "      <th>75%</th>\n",
       "      <td>75.450282</td>\n",
       "    </tr>\n",
       "    <tr>\n",
       "      <th>max</th>\n",
       "      <td>87.976128</td>\n",
       "    </tr>\n",
       "  </tbody>\n",
       "</table>\n",
       "</div>"
      ],
      "text/plain": [
       "             value\n",
       "count  4032.000000\n",
       "mean     42.438353\n",
       "std      28.077122\n",
       "min      18.000964\n",
       "25%      19.841390\n",
       "50%      21.608487\n",
       "75%      75.450282\n",
       "max      87.976128"
      ]
     },
     "execution_count": 7,
     "metadata": {},
     "output_type": "execute_result"
    }
   ],
   "source": [
    "# prints out some descriptive statistics of the dataset\n",
    "df_small_noise.describe()"
   ]
  },
  {
   "cell_type": "markdown",
   "id": "005a5074",
   "metadata": {},
   "source": [
    "The information above gives us some insight into the small_noise dataset. There are 4032 rows and we can clearly see the mean, standard deviation(std), minimum and maximum value in the dataset(min,max) and the interquartile ranges (25%,50%,75%)[9]."
   ]
  },
  {
   "cell_type": "code",
   "execution_count": 8,
   "id": "7cdc813f",
   "metadata": {},
   "outputs": [
    {
     "data": {
      "text/plain": [
       "value    18.324919\n",
       "Name: 2014-04-01 00:00:00, dtype: float64"
      ]
     },
     "execution_count": 8,
     "metadata": {},
     "output_type": "execute_result"
    }
   ],
   "source": [
    "# search for the data located in index 0 i.e the first row of data\n",
    "df_small_noise.iloc[0]"
   ]
  },
  {
   "cell_type": "code",
   "execution_count": 9,
   "id": "c007121a",
   "metadata": {},
   "outputs": [
    {
     "data": {
      "text/plain": [
       "18.3249185392"
      ]
     },
     "execution_count": 9,
     "metadata": {},
     "output_type": "execute_result"
    }
   ],
   "source": [
    "# search for the first row of data and return the column 'values'\n",
    "df_small_noise.iloc[0]['value']"
   ]
  },
  {
   "cell_type": "code",
   "execution_count": 10,
   "id": "26641b9d",
   "metadata": {},
   "outputs": [
    {
     "data": {
      "text/plain": [
       "(4032, 1)"
      ]
     },
     "execution_count": 10,
     "metadata": {},
     "output_type": "execute_result"
    }
   ],
   "source": [
    "# outputs a tuple describing the dimensions of the dataframe\n",
    "df_small_noise.shape"
   ]
  },
  {
   "cell_type": "markdown",
   "id": "734e230e",
   "metadata": {},
   "source": [
    "Now let's take a look at the dataset when it is plotted"
   ]
  },
  {
   "cell_type": "code",
   "execution_count": 11,
   "id": "2550b0fc",
   "metadata": {},
   "outputs": [
    {
     "data": {
      "image/png": "[encoded data removed]",
      "text/plain": [
       "<Figure size 1152x288 with 1 Axes>"
      ]
     },
     "metadata": {
      "needs_background": "light"
     },
     "output_type": "display_data"
    }
   ],
   "source": [
    "# Create a plot and set the size of the figure\n",
    "fig, ax = plt.subplots(figsize=(16,4))\n",
    "\n",
    "# Use pandas to plot small noise data frame and set legend to false\n",
    "# ax=ax setting axes equal to the set of axes we created above using pyplot\n",
    "#delete legend and x-axis label\n",
    "# \";\" gets rid of the return value of the function  \n",
    "df_small_noise.plot(legend=False, ax=ax, title ='Timeseries Plot Of The Data Set Without Anomalies',xlabel=\"\");"
   ]
  },
  {
   "cell_type": "markdown",
   "id": "400b0477",
   "metadata": {},
   "source": [
    "Next we will do the above analysis on the dataframe 'df_daily_jumpsup'. this dataset will be the test set. We will test our model on it after we train it. This dataset contains anomalies."
   ]
  },
  {
   "cell_type": "code",
   "execution_count": 12,
   "id": "14967b56",
   "metadata": {},
   "outputs": [],
   "source": [
    "# dataframe daily_jumpsup taken from with_anomaly_url and set the timestamp column as the index\n",
    "df_daily_jumpsup = pd.read_csv(with_anomaly_url, parse_dates=True, index_col=\"timestamp\")"
   ]
  },
  {
   "cell_type": "code",
   "execution_count": 13,
   "id": "e3ed7cec",
   "metadata": {},
   "outputs": [
    {
     "data": {
      "text/html": [
       "<div>\n",
       "<style scoped>\n",
       "    .dataframe tbody tr th:only-of-type {\n",
       "        vertical-align: middle;\n",
       "    }\n",
       "\n",
       "    .dataframe tbody tr th {\n",
       "        vertical-align: top;\n",
       "    }\n",
       "\n",
       "    .dataframe thead th {\n",
       "        text-align: right;\n",
       "    }\n",
       "</style>\n",
       "<table border=\"1\" class=\"dataframe\">\n",
       "  <thead>\n",
       "    <tr style=\"text-align: right;\">\n",
       "      <th></th>\n",
       "      <th>value</th>\n",
       "    </tr>\n",
       "    <tr>\n",
       "      <th>timestamp</th>\n",
       "      <th></th>\n",
       "    </tr>\n",
       "  </thead>\n",
       "  <tbody>\n",
       "    <tr>\n",
       "      <th>2014-04-01 00:00:00</th>\n",
       "      <td>19.761252</td>\n",
       "    </tr>\n",
       "    <tr>\n",
       "      <th>2014-04-01 00:05:00</th>\n",
       "      <td>20.500833</td>\n",
       "    </tr>\n",
       "    <tr>\n",
       "      <th>2014-04-01 00:10:00</th>\n",
       "      <td>19.961641</td>\n",
       "    </tr>\n",
       "    <tr>\n",
       "      <th>2014-04-01 00:15:00</th>\n",
       "      <td>21.490266</td>\n",
       "    </tr>\n",
       "    <tr>\n",
       "      <th>2014-04-01 00:20:00</th>\n",
       "      <td>20.187739</td>\n",
       "    </tr>\n",
       "  </tbody>\n",
       "</table>\n",
       "</div>"
      ],
      "text/plain": [
       "                         value\n",
       "timestamp                     \n",
       "2014-04-01 00:00:00  19.761252\n",
       "2014-04-01 00:05:00  20.500833\n",
       "2014-04-01 00:10:00  19.961641\n",
       "2014-04-01 00:15:00  21.490266\n",
       "2014-04-01 00:20:00  20.187739"
      ]
     },
     "execution_count": 13,
     "metadata": {},
     "output_type": "execute_result"
    }
   ],
   "source": [
    "# print out the first 5 lines of the dataframe\n",
    "df_daily_jumpsup.head()"
   ]
  },
  {
   "cell_type": "code",
   "execution_count": 14,
   "id": "1f02812a",
   "metadata": {},
   "outputs": [
    {
     "data": {
      "text/html": [
       "<div>\n",
       "<style scoped>\n",
       "    .dataframe tbody tr th:only-of-type {\n",
       "        vertical-align: middle;\n",
       "    }\n",
       "\n",
       "    .dataframe tbody tr th {\n",
       "        vertical-align: top;\n",
       "    }\n",
       "\n",
       "    .dataframe thead th {\n",
       "        text-align: right;\n",
       "    }\n",
       "</style>\n",
       "<table border=\"1\" class=\"dataframe\">\n",
       "  <thead>\n",
       "    <tr style=\"text-align: right;\">\n",
       "      <th></th>\n",
       "      <th>value</th>\n",
       "    </tr>\n",
       "  </thead>\n",
       "  <tbody>\n",
       "    <tr>\n",
       "      <th>count</th>\n",
       "      <td>4032.000000</td>\n",
       "    </tr>\n",
       "    <tr>\n",
       "      <th>mean</th>\n",
       "      <td>44.494254</td>\n",
       "    </tr>\n",
       "    <tr>\n",
       "      <th>std</th>\n",
       "      <td>32.432473</td>\n",
       "    </tr>\n",
       "    <tr>\n",
       "      <th>min</th>\n",
       "      <td>18.001010</td>\n",
       "    </tr>\n",
       "    <tr>\n",
       "      <th>25%</th>\n",
       "      <td>19.991382</td>\n",
       "    </tr>\n",
       "    <tr>\n",
       "      <th>50%</th>\n",
       "      <td>21.648503</td>\n",
       "    </tr>\n",
       "    <tr>\n",
       "      <th>75%</th>\n",
       "      <td>76.435943</td>\n",
       "    </tr>\n",
       "    <tr>\n",
       "      <th>max</th>\n",
       "      <td>164.947481</td>\n",
       "    </tr>\n",
       "  </tbody>\n",
       "</table>\n",
       "</div>"
      ],
      "text/plain": [
       "             value\n",
       "count  4032.000000\n",
       "mean     44.494254\n",
       "std      32.432473\n",
       "min      18.001010\n",
       "25%      19.991382\n",
       "50%      21.648503\n",
       "75%      76.435943\n",
       "max     164.947481"
      ]
     },
     "execution_count": 14,
     "metadata": {},
     "output_type": "execute_result"
    }
   ],
   "source": [
    "# prints out some descriptive statistics of the dataset\n",
    "df_daily_jumpsup.describe()"
   ]
  },
  {
   "cell_type": "code",
   "execution_count": 15,
   "id": "09ec0b7b",
   "metadata": {},
   "outputs": [
    {
     "data": {
      "text/plain": [
       "19.761251903"
      ]
     },
     "execution_count": 15,
     "metadata": {},
     "output_type": "execute_result"
    }
   ],
   "source": [
    "# # search for the first row of data and return the column 'values'\n",
    "df_daily_jumpsup.iloc[0]['value']"
   ]
  },
  {
   "cell_type": "code",
   "execution_count": 16,
   "id": "a7b61ea8",
   "metadata": {},
   "outputs": [
    {
     "data": {
      "text/plain": [
       "(4032, 1)"
      ]
     },
     "execution_count": 16,
     "metadata": {},
     "output_type": "execute_result"
    }
   ],
   "source": [
    "# outputs a tuple describing the dimensions of the dataframe\n",
    "df_daily_jumpsup.shape"
   ]
  },
  {
   "cell_type": "code",
   "execution_count": 17,
   "id": "76f848a1",
   "metadata": {},
   "outputs": [
    {
     "data": {
      "image/png": "[encoded data removed]",
      "text/plain": [
       "<Figure size 1152x288 with 1 Axes>"
      ]
     },
     "metadata": {
      "needs_background": "light"
     },
     "output_type": "display_data"
    }
   ],
   "source": [
    "# Create a plot and set the size of the figure\n",
    "fig, ax = plt.subplots(figsize=(16,4))\n",
    "\n",
    "# Use pandas to plot small noise data frame and set legend to false\n",
    "# ax=ax setting axes equal to the set of axes we created above using pyplot\n",
    "#change color of plot [13]\n",
    "# \";\" gets rid of the return value of the function  \n",
    "df_daily_jumpsup.plot(legend=False, ax=ax, title ='Timeseries Plot Of The Data Set with anomalies',xlabel=\"\",colormap='viridis');"
   ]
  },
  {
   "cell_type": "markdown",
   "id": "3e104f9e",
   "metadata": {},
   "source": [
    "<h2 style=\"color: #8A2BE2;\">Preprocessing The Data</h2>"
   ]
  },
  {
   "cell_type": "markdown",
   "id": "fa9a8d18",
   "metadata": {},
   "source": [
    "Now we can prepare our training data."
   ]
  },
  {
   "cell_type": "markdown",
   "id": "3b040a93",
   "metadata": {},
   "source": [
    "<h3>Normalization</h3>\n",
    "First we need to normalize the data. Currently our training set contains values between 18.001010 and 87.976128 so we want to convert these values and put them on a scale between 0 and 1. We can do this using normalization which will make our data scale smaller making it easier to work with the values. It also ensures that all data used in this model is placed on the same scale[10][11]. \n",
    "\n",
    "There are multiple methods for normalization. The method we will use is called standardization[12]. The formula is:\n",
    "$$\\frac {x-\\mu}{\\sigma}$$"
   ]
  },
  {
   "cell_type": "code",
   "execution_count": 18,
   "id": "302ac26b",
   "metadata": {},
   "outputs": [
    {
     "data": {
      "text/plain": [
       "value    42.438353\n",
       "dtype: float64"
      ]
     },
     "execution_count": 18,
     "metadata": {},
     "output_type": "execute_result"
    }
   ],
   "source": [
    "# First get the mean\n",
    "train_mean = df_small_noise.mean()\n",
    "\n",
    "train_mean"
   ]
  },
  {
   "cell_type": "code",
   "execution_count": 19,
   "id": "e5edba4b",
   "metadata": {},
   "outputs": [
    {
     "data": {
      "text/plain": [
       "value    28.077122\n",
       "dtype: float64"
      ]
     },
     "execution_count": 19,
     "metadata": {},
     "output_type": "execute_result"
    }
   ],
   "source": [
    "# get the standard deviation\n",
    "train_std = df_small_noise.std()\n",
    "\n",
    "train_std"
   ]
  },
  {
   "cell_type": "code",
   "execution_count": 20,
   "id": "1bf03ca6",
   "metadata": {},
   "outputs": [],
   "source": [
    "# Make a new dataset with normalized values\n",
    "df_train_vals = (df_small_noise - train_mean) / train_std"
   ]
  },
  {
   "cell_type": "markdown",
   "id": "39433d86",
   "metadata": {},
   "source": [
    "Normalized training dataset:"
   ]
  },
  {
   "cell_type": "code",
   "execution_count": 21,
   "id": "eac9257c",
   "metadata": {},
   "outputs": [
    {
     "data": {
      "text/html": [
       "<div>\n",
       "<style scoped>\n",
       "    .dataframe tbody tr th:only-of-type {\n",
       "        vertical-align: middle;\n",
       "    }\n",
       "\n",
       "    .dataframe tbody tr th {\n",
       "        vertical-align: top;\n",
       "    }\n",
       "\n",
       "    .dataframe thead th {\n",
       "        text-align: right;\n",
       "    }\n",
       "</style>\n",
       "<table border=\"1\" class=\"dataframe\">\n",
       "  <thead>\n",
       "    <tr style=\"text-align: right;\">\n",
       "      <th></th>\n",
       "      <th>value</th>\n",
       "    </tr>\n",
       "    <tr>\n",
       "      <th>timestamp</th>\n",
       "      <th></th>\n",
       "    </tr>\n",
       "  </thead>\n",
       "  <tbody>\n",
       "    <tr>\n",
       "      <th>2014-04-01 00:00:00</th>\n",
       "      <td>-0.858829</td>\n",
       "    </tr>\n",
       "    <tr>\n",
       "      <th>2014-04-01 00:05:00</th>\n",
       "      <td>-0.728993</td>\n",
       "    </tr>\n",
       "    <tr>\n",
       "      <th>2014-04-01 00:10:00</th>\n",
       "      <td>-0.848148</td>\n",
       "    </tr>\n",
       "    <tr>\n",
       "      <th>2014-04-01 00:15:00</th>\n",
       "      <td>-0.729586</td>\n",
       "    </tr>\n",
       "    <tr>\n",
       "      <th>2014-04-01 00:20:00</th>\n",
       "      <td>-0.731173</td>\n",
       "    </tr>\n",
       "  </tbody>\n",
       "</table>\n",
       "</div>"
      ],
      "text/plain": [
       "                        value\n",
       "timestamp                    \n",
       "2014-04-01 00:00:00 -0.858829\n",
       "2014-04-01 00:05:00 -0.728993\n",
       "2014-04-01 00:10:00 -0.848148\n",
       "2014-04-01 00:15:00 -0.729586\n",
       "2014-04-01 00:20:00 -0.731173"
      ]
     },
     "execution_count": 21,
     "metadata": {},
     "output_type": "execute_result"
    }
   ],
   "source": [
    "# Print first 5 lines of dataset\n",
    "df_train_vals.head()"
   ]
  },
  {
   "cell_type": "code",
   "execution_count": 22,
   "id": "a00e8da3",
   "metadata": {},
   "outputs": [],
   "source": [
    "# show the steps of the calculation\n",
    "\n",
    "#column showing each value after mean is subtracted\n",
    "df_small_noise['less_mean'] = df_small_noise['value'] - df_small_noise['value'].mean()\n",
    "#column showing each value after mean is subtracted and divided by standard deviation\n",
    "df_small_noise['div_std'] = df_small_noise['less_mean'] / df_small_noise['value'].std()"
   ]
  },
  {
   "cell_type": "markdown",
   "id": "6ec7e2c6",
   "metadata": {},
   "source": [
    "Dataframe breaking down the normalizion calculation steps"
   ]
  },
  {
   "cell_type": "code",
   "execution_count": 23,
   "id": "025fb166",
   "metadata": {},
   "outputs": [
    {
     "data": {
      "text/html": [
       "<div>\n",
       "<style scoped>\n",
       "    .dataframe tbody tr th:only-of-type {\n",
       "        vertical-align: middle;\n",
       "    }\n",
       "\n",
       "    .dataframe tbody tr th {\n",
       "        vertical-align: top;\n",
       "    }\n",
       "\n",
       "    .dataframe thead th {\n",
       "        text-align: right;\n",
       "    }\n",
       "</style>\n",
       "<table border=\"1\" class=\"dataframe\">\n",
       "  <thead>\n",
       "    <tr style=\"text-align: right;\">\n",
       "      <th></th>\n",
       "      <th>value</th>\n",
       "      <th>less_mean</th>\n",
       "      <th>div_std</th>\n",
       "    </tr>\n",
       "    <tr>\n",
       "      <th>timestamp</th>\n",
       "      <th></th>\n",
       "      <th></th>\n",
       "      <th></th>\n",
       "    </tr>\n",
       "  </thead>\n",
       "  <tbody>\n",
       "    <tr>\n",
       "      <th>2014-04-01 00:00:00</th>\n",
       "      <td>18.324919</td>\n",
       "      <td>-24.113435</td>\n",
       "      <td>-0.858829</td>\n",
       "    </tr>\n",
       "    <tr>\n",
       "      <th>2014-04-01 00:05:00</th>\n",
       "      <td>21.970327</td>\n",
       "      <td>-20.468026</td>\n",
       "      <td>-0.728993</td>\n",
       "    </tr>\n",
       "    <tr>\n",
       "      <th>2014-04-01 00:10:00</th>\n",
       "      <td>18.624806</td>\n",
       "      <td>-23.813547</td>\n",
       "      <td>-0.848148</td>\n",
       "    </tr>\n",
       "    <tr>\n",
       "      <th>2014-04-01 00:15:00</th>\n",
       "      <td>21.953684</td>\n",
       "      <td>-20.484669</td>\n",
       "      <td>-0.729586</td>\n",
       "    </tr>\n",
       "    <tr>\n",
       "      <th>2014-04-01 00:20:00</th>\n",
       "      <td>21.909120</td>\n",
       "      <td>-20.529234</td>\n",
       "      <td>-0.731173</td>\n",
       "    </tr>\n",
       "    <tr>\n",
       "      <th>...</th>\n",
       "      <td>...</td>\n",
       "      <td>...</td>\n",
       "      <td>...</td>\n",
       "    </tr>\n",
       "    <tr>\n",
       "      <th>2014-04-14 23:35:00</th>\n",
       "      <td>20.211195</td>\n",
       "      <td>-22.227159</td>\n",
       "      <td>-0.791647</td>\n",
       "    </tr>\n",
       "    <tr>\n",
       "      <th>2014-04-14 23:40:00</th>\n",
       "      <td>20.531041</td>\n",
       "      <td>-21.907313</td>\n",
       "      <td>-0.780255</td>\n",
       "    </tr>\n",
       "    <tr>\n",
       "      <th>2014-04-14 23:45:00</th>\n",
       "      <td>19.032127</td>\n",
       "      <td>-23.406226</td>\n",
       "      <td>-0.833640</td>\n",
       "    </tr>\n",
       "    <tr>\n",
       "      <th>2014-04-14 23:50:00</th>\n",
       "      <td>21.798801</td>\n",
       "      <td>-20.639552</td>\n",
       "      <td>-0.735102</td>\n",
       "    </tr>\n",
       "    <tr>\n",
       "      <th>2014-04-14 23:55:00</th>\n",
       "      <td>18.682620</td>\n",
       "      <td>-23.755733</td>\n",
       "      <td>-0.846089</td>\n",
       "    </tr>\n",
       "  </tbody>\n",
       "</table>\n",
       "<p>4032 rows × 3 columns</p>\n",
       "</div>"
      ],
      "text/plain": [
       "                         value  less_mean   div_std\n",
       "timestamp                                          \n",
       "2014-04-01 00:00:00  18.324919 -24.113435 -0.858829\n",
       "2014-04-01 00:05:00  21.970327 -20.468026 -0.728993\n",
       "2014-04-01 00:10:00  18.624806 -23.813547 -0.848148\n",
       "2014-04-01 00:15:00  21.953684 -20.484669 -0.729586\n",
       "2014-04-01 00:20:00  21.909120 -20.529234 -0.731173\n",
       "...                        ...        ...       ...\n",
       "2014-04-14 23:35:00  20.211195 -22.227159 -0.791647\n",
       "2014-04-14 23:40:00  20.531041 -21.907313 -0.780255\n",
       "2014-04-14 23:45:00  19.032127 -23.406226 -0.833640\n",
       "2014-04-14 23:50:00  21.798801 -20.639552 -0.735102\n",
       "2014-04-14 23:55:00  18.682620 -23.755733 -0.846089\n",
       "\n",
       "[4032 rows x 3 columns]"
      ]
     },
     "execution_count": 23,
     "metadata": {},
     "output_type": "execute_result"
    }
   ],
   "source": [
    "#print dataframe\n",
    "df_small_noise"
   ]
  },
  {
   "cell_type": "code",
   "execution_count": 24,
   "id": "aed425f0",
   "metadata": {},
   "outputs": [
    {
     "data": {
      "text/plain": [
       "(42.438353335806646, -7.342627387941552e-14, -2.616541242931684e-15)"
      ]
     },
     "execution_count": 24,
     "metadata": {},
     "output_type": "execute_result"
    }
   ],
   "source": [
    "#calculate the mean of all the columns in df showing normalizion calculation steps\n",
    "df_small_noise['value'].mean(), df_small_noise['less_mean'].mean(), df_small_noise['div_std'].mean()"
   ]
  },
  {
   "cell_type": "code",
   "execution_count": 25,
   "id": "c07dbcca",
   "metadata": {},
   "outputs": [
    {
     "data": {
      "text/plain": [
       "(28.077122281262515, 28.077122281262508, 1.0000000000000018)"
      ]
     },
     "execution_count": 25,
     "metadata": {},
     "output_type": "execute_result"
    }
   ],
   "source": [
    "#calculate the standard deviation of all the columns in df showing normalizion calculation steps\n",
    "df_small_noise['value'].std(), df_small_noise['less_mean'].std(), df_small_noise['div_std'].std()"
   ]
  },
  {
   "cell_type": "markdown",
   "id": "91037610",
   "metadata": {},
   "source": [
    "<h3>Plot Normalized Training Dataset</h3>"
   ]
  },
  {
   "cell_type": "code",
   "execution_count": 26,
   "id": "c35e7e84",
   "metadata": {},
   "outputs": [
    {
     "data": {
      "image/png": "[encoded data removed]",
      "text/plain": [
       "<Figure size 1152x288 with 1 Axes>"
      ]
     },
     "metadata": {
      "needs_background": "light"
     },
     "output_type": "display_data"
    }
   ],
   "source": [
    "# Create a plot and set the size of the figure\n",
    "fig, ax = plt.subplots(figsize=(16,4))\n",
    "\n",
    "# Use pandas to plot small noise data frame and set legend to false\n",
    "# ax=ax setting axes equal to the set of axes we created above using pyplot\n",
    "#change color of plot [13]\n",
    "# \";\" gets rid of the return value of the function  \n",
    "df_train_vals.plot(legend=False, ax=ax, title ='Timeseries Plot Of The Normalized Data Set with anomalies',xlabel=\"\",colormap='cool');"
   ]
  },
  {
   "cell_type": "markdown",
   "id": "694d0a3e",
   "metadata": {},
   "source": [
    "The plot appears to be the same as before we normalized the dataset excpet the y-axis scale is now much smaller. This is what we want - the same pattern/trend in data just on a more manageable scale."
   ]
  },
  {
   "cell_type": "code",
   "execution_count": 27,
   "id": "24ba1716",
   "metadata": {},
   "outputs": [
    {
     "data": {
      "text/plain": [
       "(4032, 1)"
      ]
     },
     "execution_count": 27,
     "metadata": {},
     "output_type": "execute_result"
    }
   ],
   "source": [
    "# check we still have 4032 rows\n",
    "df_train_vals.shape"
   ]
  },
  {
   "cell_type": "code",
   "execution_count": 28,
   "id": "acfd6d67",
   "metadata": {},
   "outputs": [],
   "source": [
    "# split the data up into groups of 288 values \n",
    "window_size = 288"
   ]
  },
  {
   "cell_type": "markdown",
   "id": "9820a517",
   "metadata": {},
   "source": [
    "Window example:\n",
    "\n",
    "[1, 1, 2, 4, 5, 6, 7, 1, 2, 3, 4, 5]<br>\n",
    "window_size = 3 <br>\n",
    "[1, 1, 2]<br>\n",
    "[1, 2, 4]<br>\n",
    "[2, 4, 5]<br>\n",
    "[4, 5, 6]<br>\n",
    "...\n"
   ]
  },
  {
   "cell_type": "code",
   "execution_count": 29,
   "id": "2fdd0256",
   "metadata": {},
   "outputs": [
    {
     "data": {
      "text/plain": [
       "12"
      ]
     },
     "execution_count": 29,
     "metadata": {},
     "output_type": "execute_result"
    }
   ],
   "source": [
    "# Window list example.\n",
    "L = [1, 1, 2, 4, 5, 6, 7, 1, 2, 3, 4, 5]\n",
    "# Example window size.\n",
    "win_size = 3\n",
    "# Length of L.\n",
    "len(L)"
   ]
  },
  {
   "cell_type": "code",
   "execution_count": 30,
   "id": "0ff0a8be",
   "metadata": {},
   "outputs": [
    {
     "data": {
      "text/plain": [
       "10"
      ]
     },
     "execution_count": 30,
     "metadata": {},
     "output_type": "execute_result"
    }
   ],
   "source": [
    "# Number of windows from L.\n",
    "len(L) - (win_size - 1)"
   ]
  },
  {
   "cell_type": "code",
   "execution_count": 31,
   "id": "6f7f05f7",
   "metadata": {},
   "outputs": [
    {
     "data": {
      "text/plain": [
       "10"
      ]
     },
     "execution_count": 31,
     "metadata": {},
     "output_type": "execute_result"
    }
   ],
   "source": [
    "# Remove brackets.\n",
    "len(L) - win_size + 1"
   ]
  },
  {
   "cell_type": "code",
   "execution_count": 32,
   "id": "646a8a32",
   "metadata": {},
   "outputs": [
    {
     "name": "stdout",
     "output_type": "stream",
     "text": [
      "[1, 1, 2]\n",
      "[1, 2, 4]\n",
      "[2, 4, 5]\n",
      "[4, 5, 6]\n",
      "[5, 6, 7]\n",
      "[6, 7, 1]\n",
      "[7, 1, 2]\n",
      "[1, 2, 3]\n",
      "[2, 3, 4]\n",
      "[3, 4, 5]\n"
     ]
    }
   ],
   "source": [
    "# Print the windows.\n",
    "for i in range(len(L) - win_size + 1):\n",
    "    print(L[i:i + win_size])"
   ]
  },
  {
   "cell_type": "markdown",
   "id": "7d39ff2b",
   "metadata": {},
   "source": [
    "The above window example takes a list of numbers and splits it into lists with three elements. It does the by starting with index 0-2, then index 1-3 and so on (increasing the first and last index taken from by 1 each time)."
   ]
  },
  {
   "cell_type": "markdown",
   "id": "875eb22b",
   "metadata": {},
   "source": [
    "Demonstrate the above example using a function to fill an empty list called wins"
   ]
  },
  {
   "cell_type": "code",
   "execution_count": 33,
   "id": "d0272baa",
   "metadata": {},
   "outputs": [
    {
     "data": {
      "text/plain": [
       "[[1, 1, 2],\n",
       " [1, 2, 4],\n",
       " [2, 4, 5],\n",
       " [4, 5, 6],\n",
       " [5, 6, 7],\n",
       " [6, 7, 1],\n",
       " [7, 1, 2],\n",
       " [1, 2, 3],\n",
       " [2, 3, 4],\n",
       " [3, 4, 5]]"
      ]
     },
     "execution_count": 33,
     "metadata": {},
     "output_type": "execute_result"
    }
   ],
   "source": [
    "# For accumulating the windows.\n",
    "wins = []\n",
    "\n",
    "# Generate the windows\n",
    "for i in range(len(L) - win_size + 1):\n",
    "    wins.append(L[i:i + win_size])\n",
    "\n",
    "wins"
   ]
  },
  {
   "cell_type": "code",
   "execution_count": 34,
   "id": "82c36b57",
   "metadata": {},
   "outputs": [
    {
     "data": {
      "text/plain": [
       "array([[1, 1, 2],\n",
       "       [1, 2, 4],\n",
       "       [2, 4, 5],\n",
       "       [4, 5, 6],\n",
       "       [5, 6, 7],\n",
       "       [6, 7, 1],\n",
       "       [7, 1, 2],\n",
       "       [1, 2, 3],\n",
       "       [2, 3, 4],\n",
       "       [3, 4, 5]])"
      ]
     },
     "execution_count": 34,
     "metadata": {},
     "output_type": "execute_result"
    }
   ],
   "source": [
    "# Create a 2D numpy array from wins.\n",
    "np.stack(wins)"
   ]
  },
  {
   "cell_type": "code",
   "execution_count": 35,
   "id": "e36da49d",
   "metadata": {},
   "outputs": [],
   "source": [
    "# function takes in a list of values and window size and splits the values into groups of size=window size \n",
    "# adds these new groups as separate lists to an empty array L\n",
    "#returns L with its lists stacked \n",
    "def windows(vals, N=window_size):\n",
    "  # start with an empty list\n",
    "  L = []\n",
    "  # loop through all the possible windows\n",
    "  for i in range(len(vals) - N + 1):\n",
    "    # append window to the list\n",
    "    L.append(vals[i:i+N])\n",
    "  # Stack them all\n",
    "  return np.stack(L)"
   ]
  },
  {
   "cell_type": "code",
   "execution_count": 36,
   "id": "27589f90",
   "metadata": {},
   "outputs": [],
   "source": [
    "# pass the training values into the windows function\n",
    "x_train = windows(df_train_vals)"
   ]
  },
  {
   "cell_type": "code",
   "execution_count": 37,
   "id": "c8f66a41",
   "metadata": {},
   "outputs": [
    {
     "data": {
      "text/plain": [
       "(array([-0.85882857]), array([-0.8460886]))"
      ]
     },
     "execution_count": 37,
     "metadata": {},
     "output_type": "execute_result"
    }
   ],
   "source": [
    "# check the first value in first window and last value in last window\n",
    "x_train[0][0], x_train[-1][-1]"
   ]
  },
  {
   "cell_type": "code",
   "execution_count": 38,
   "id": "e3aa4b9c",
   "metadata": {},
   "outputs": [
    {
     "data": {
      "text/plain": [
       "(value   -0.858829\n",
       " Name: 2014-04-01 00:00:00, dtype: float64,\n",
       " value   -0.846089\n",
       " Name: 2014-04-14 23:55:00, dtype: float64)"
      ]
     },
     "execution_count": 38,
     "metadata": {},
     "output_type": "execute_result"
    }
   ],
   "source": [
    "# check first row of training set and last row of training set\n",
    "df_train_vals.iloc[0], df_train_vals.iloc[-1]"
   ]
  },
  {
   "cell_type": "code",
   "execution_count": 39,
   "id": "08001ad2",
   "metadata": {},
   "outputs": [
    {
     "data": {
      "text/plain": [
       "(3745, 288, 1)"
      ]
     },
     "execution_count": 39,
     "metadata": {},
     "output_type": "execute_result"
    }
   ],
   "source": [
    "# check the 3 dimensions of dataframe now\n",
    "x_train.shape"
   ]
  },
  {
   "cell_type": "markdown",
   "id": "c47ccc57",
   "metadata": {},
   "source": [
    "We have 3745 training examples/windows of size 288. We have less values than we have windows in the array because the 288th element of the window eventually gets to the end of the array and then we can't continue or we would have arrays with less than 288 values."
   ]
  },
  {
   "cell_type": "code",
   "execution_count": 40,
   "id": "a8a4f2dd",
   "metadata": {},
   "outputs": [
    {
     "data": {
      "text/plain": [
       "array([-0.85882857, -0.72899302, -0.84814772, ..., -0.83364049,\n",
       "       -0.73510213, -0.8460886 ])"
      ]
     },
     "execution_count": 40,
     "metadata": {},
     "output_type": "execute_result"
    }
   ],
   "source": [
    "#print values in the values column\n",
    "df_train_vals['value'].values"
   ]
  },
  {
   "cell_type": "code",
   "execution_count": 41,
   "id": "32bcc2af",
   "metadata": {},
   "outputs": [
    {
     "data": {
      "text/plain": [
       "array([-0.85882857, -0.72899302, -0.84814772, -0.72958579, -0.731173  ,\n",
       "       -0.75730984, -0.77645641, -0.7880838 , -0.747012  , -0.829166  ,\n",
       "       -0.80377285, -0.7821597 , -0.81182078, -0.80949918, -0.82334701,\n",
       "       -0.79001779, -0.74922405, -0.84169024, -0.73727717, -0.77223023,\n",
       "       -0.75311352, -0.79116337, -0.75934728, -0.86809294, -0.75381057,\n",
       "       -0.86468256, -0.74361965, -0.72908121, -0.82850668, -0.84043795,\n",
       "       -0.76136364, -0.8343536 , -0.74708881, -0.85574949, -0.85245676,\n",
       "       -0.73090636, -0.77440264, -0.74974936, -0.82419543, -0.77402585,\n",
       "       -0.78574242, -0.7844733 , -0.77316412, -0.78843253, -0.80927467,\n",
       "       -0.83109167, -0.76090519, -0.83816509, -0.77176485, -0.83715923,\n",
       "       -0.78131343, -0.76396862, -0.83924191, -0.86186112, -0.85174179,\n",
       "       -0.78406773, -0.74938477, -0.86399047, -0.76581026, -0.82177506,\n",
       "       -0.80222751, -0.73807119, -0.82310669, -0.80410682, -0.86845167,\n",
       "       -0.85877599, -0.83356075, -0.86643297, -0.78045221, -0.8096542 ,\n",
       "       -0.79230956, -0.84551986, -0.82824105, -0.77582935, -0.73287933,\n",
       "       -0.86321832, -0.74355256, -0.7882157 , -0.79006227, -0.79912888,\n",
       "       -0.86051472, -0.85759665, -0.78479216, -0.82182635, -0.73972257,\n",
       "       -0.81247611, -0.84998837, -0.76857869, -0.82860841, -0.79553994,\n",
       "       -0.77098436, -0.74214503, -0.75754161, -0.77404332, -0.77357716,\n",
       "       -0.73564002, -0.82825643, -0.8702425 , -0.83165699, -0.83935909,\n",
       "       -0.77611284, -0.78011937, -0.78585361, -0.86808681, -0.76657575,\n",
       "       -0.82430925, -0.7756539 , -0.79110813,  0.83423034,  0.73340436,\n",
       "        0.71395293,  1.07098925,  1.11307181,  0.98296271,  0.71831972,\n",
       "        0.86295228,  1.02130195,  1.04594803,  0.72548104,  0.66823317,\n",
       "        1.36958529,  1.17305538,  1.11661005,  0.98307138,  1.27459976,\n",
       "        1.44642694,  1.50528567,  1.28866513,  1.26031743,  1.02295817,\n",
       "        1.27933882,  1.18598059,  1.3813925 ,  1.25767699,  1.1736019 ,\n",
       "        1.09127902,  1.21586925,  1.09223039,  1.13768838,  1.59675342,\n",
       "        1.28904484,  1.33876025,  1.53233922,  1.60141677,  1.38146244,\n",
       "        1.51223576,  1.23588256,  1.22381772,  1.2790048 ,  1.43257027,\n",
       "        1.43808241,  1.22922231,  1.12561563,  1.40974009,  1.12283575,\n",
       "        1.37905941,  1.44731563,  1.45141157,  1.48152744,  1.54954504,\n",
       "        1.33709539,  1.46829683,  1.4050141 ,  1.15859057,  1.06689361,\n",
       "        1.21436719,  1.30466379,  1.40383661,  1.53708371,  1.16457702,\n",
       "        1.12429225,  1.60177134,  1.11431721,  1.32540935,  1.38642273,\n",
       "        1.36124227,  1.10177385,  1.08524575,  1.1128578 ,  1.38643638,\n",
       "        1.36304532,  1.18604649,  1.41628631,  1.52016681,  1.07654239,\n",
       "        1.33670957,  1.44565443,  1.19662931,  1.22823281,  1.40253218,\n",
       "        1.56454005,  1.51438674,  1.38516952,  1.46899077,  1.26076513,\n",
       "        1.41812743,  1.31852542,  1.16110478,  1.45275926,  1.36997393,\n",
       "        1.25723151,  1.57220199,  1.06479764,  1.23281399,  1.08528647,\n",
       "        1.48968441,  1.45297419,  1.24169607,  1.43790453,  1.2785004 ,\n",
       "        1.48382995,  1.31169265,  1.28781332,  1.58553613,  1.19583776,\n",
       "        1.12151008, -0.35250349, -0.26479567, -0.39962031, -0.47160544,\n",
       "       -0.40840388, -0.37042247, -0.44883702, -0.33573617, -0.25831579,\n",
       "       -0.38277522, -0.40488824, -0.39440839, -0.77509723, -0.65253443,\n",
       "       -0.72728022, -0.73167631, -0.6882095 , -0.72293893, -0.69003755,\n",
       "       -0.78366561, -0.6636319 , -0.64340272, -0.68995268, -0.64115899,\n",
       "       -0.83292321, -0.78536741, -0.76722084, -0.77014874, -0.79644794,\n",
       "       -0.80569367, -0.83651316, -0.79786583, -0.83128515, -0.74788262,\n",
       "       -0.82454968, -0.84647101, -0.78825327, -0.78211741, -0.74251058,\n",
       "       -0.7847296 , -0.8178686 , -0.75237369, -0.78998354, -0.85597483,\n",
       "       -0.78632299, -0.73734213, -0.81059211, -0.82490508, -0.84932652,\n",
       "       -0.84818912, -0.80807162, -0.78484064, -0.8582896 , -0.73580158,\n",
       "       -0.76210229, -0.78613203, -0.75164888, -0.85835073, -0.80178754,\n",
       "       -0.77993325, -0.75220135, -0.75863962, -0.83079766, -0.73620985,\n",
       "       -0.85255954, -0.74557822, -0.73192653, -0.84503486, -0.76738913,\n",
       "       -0.86453747, -0.81250829, -0.79671155])"
      ]
     },
     "execution_count": 41,
     "metadata": {},
     "output_type": "execute_result"
    }
   ],
   "source": [
    "# flatten matrix of first column to one dimension\n",
    "x_train[0].flatten()"
   ]
  },
  {
   "cell_type": "markdown",
   "id": "49593ca6",
   "metadata": {},
   "source": [
    "<h3>Plot Training Dataset Showing One Of the Windows</h3>"
   ]
  },
  {
   "cell_type": "code",
   "execution_count": 42,
   "id": "9767398e",
   "metadata": {},
   "outputs": [
    {
     "data": {
      "image/png": "[encoded data removed]",
      "text/plain": [
       "<Figure size 1008x432 with 1 Axes>"
      ]
     },
     "metadata": {
      "needs_background": "light"
     },
     "output_type": "display_data"
    }
   ],
   "source": [
    "# The window we want to look at\n",
    "window_no = 200\n",
    "\n",
    "# Create a plot and set the size of the figure\n",
    "fig, ax = plt.subplots(figsize=(14, 6))\n",
    "\n",
    "# define y values as value column in training dataset\n",
    "y = df_train_vals['value'].values\n",
    "\n",
    "# plot the training values and label them as the signal\n",
    "ax.plot(np.arange(y.shape[0]), y, label='signal')\n",
    "\n",
    "# The 200th window.\n",
    "w = x_train[window_no].flatten()\n",
    "\n",
    "# plot the window in orange\n",
    "ax.plot(np.arange(w.shape[0]) + window_no, w, label='window')\n",
    "#add a legend\n",
    "ax.legend();"
   ]
  },
  {
   "cell_type": "markdown",
   "id": "276fd6bb",
   "metadata": {},
   "source": [
    "***\n",
    "\n",
    "<h2 style=\"color: #8A2BE2;\">Neural Networks</h2>\n",
    "\n",
    "![alternatvie text](https://b2633864.smushcdn.com/2633864/wp-content/uploads/2016/08/simple_neural_network_header-768x377.jpg?lossy=1&strip=1&webp=1)\n"
   ]
  },
  {
   "cell_type": "markdown",
   "id": "54f84ab1",
   "metadata": {},
   "source": [
    "A neural network is made up of interlinked layers that look like the image above. Input data flows into the input layer and is then processed by hidden layer 1 then hidden layer 2 and so on until it reaches the output layer. The data starts by flowing through the network from left to right and then goes backwards after it reaches the output layer and then forwards back to the output layer as it learns the properties/pattern of the data.[15][16]"
   ]
  },
  {
   "cell_type": "markdown",
   "id": "69a5876a",
   "metadata": {},
   "source": [
    "<h4>Keras Sequential Model</h4>\n",
    "This model is essentially a stack of layers and is a convolutional neural networks. The Conv1D is a 1 dimensional convolutional layer. A convolutional neural network has hidden layers that perform mathematical functions on the data called convolutions. The activation function in the model decides if a data point is relevant or not in predicting the output set of the neural network. In this model we use the ReLU function (rectified linear unit) as the activation function. [16][17][18]"
   ]
  },
  {
   "cell_type": "code",
   "execution_count": 43,
   "id": "bc81eeb1",
   "metadata": {},
   "outputs": [
    {
     "data": {
      "text/plain": [
       "1"
      ]
     },
     "execution_count": 43,
     "metadata": {},
     "output_type": "execute_result"
    }
   ],
   "source": [
    "x_train.shape[2]"
   ]
  },
  {
   "cell_type": "code",
   "execution_count": 44,
   "id": "12b63c12",
   "metadata": {},
   "outputs": [],
   "source": [
    "#create an array of the layers we want to use in our model\n",
    "layers = [\n",
    "  #define the input layer which takes in the dimension of the the windows\n",
    "  keras.layers.Input(shape=(x_train.shape[1], x_train.shape[2])),\n",
    "  #creates convolutional kernel that takes in filters=32 means 32 output convolutions,padding=same means keep the padding same\n",
    "  #kernel_size is size of convolutions, strides specifies the stride length of the convolution, \n",
    "  #activation specifies the activation function [19]\n",
    "  keras.layers.Conv1D(\n",
    "    filters=32, kernel_size=7, padding=\"same\", strides=2, activation=\"relu\"),\n",
    "  #prevents overfitting\n",
    "  #sets a rate at which random data points are dropped out of the test[20]  \n",
    "  keras.layers.Dropout(rate=0.2),\n",
    "  #does the same as above with different filter\n",
    "  keras.layers.Conv1D(\n",
    "    filters=16, kernel_size=7, padding=\"same\", strides=2, activation=\"relu\"),\n",
    "  #transposes the convolutional layer[21]\n",
    "  keras.layers.Conv1DTranspose(\n",
    "    filters=16, kernel_size=7, padding=\"same\", strides=2, activation=\"relu\"),\n",
    "  #applies dropout again\n",
    "  keras.layers.Dropout(rate=0.2),\n",
    "  #another transpose the convolution layer with diff filter\n",
    "  keras.layers.Conv1DTranspose(\n",
    "    filters=32, kernel_size=7, padding=\"same\", strides=2, activation=\"relu\"),\n",
    "  #another transpose the convolution layer with diff filter\n",
    "  keras.layers.Conv1DTranspose(filters=1, kernel_size=7, padding=\"same\"),\n",
    "]"
   ]
  },
  {
   "cell_type": "code",
   "execution_count": 45,
   "id": "ada885c9",
   "metadata": {},
   "outputs": [],
   "source": [
    "# Creates a deep learning model and passes the layers through it \n",
    "model = keras.Sequential(layers)"
   ]
  },
  {
   "cell_type": "markdown",
   "id": "146f3689",
   "metadata": {},
   "source": [
    "<h4>Gradient Descent</h4>\n",
    "Gradient descent is a method that calculates the error between the predicted output and the actual about and it continue to calculate step by step through the data until a minimum error is achieved. The learning rate specifies the size of the steps taken. A large learning rate can cause under fitting and a small learning rate can cause over fitting.[23][24][25]"
   ]
  },
  {
   "cell_type": "code",
   "execution_count": 46,
   "id": "a1950991",
   "metadata": {},
   "outputs": [],
   "source": [
    "# gradient descent method that takes in a learning rate[22]\n",
    "optimizer = keras.optimizers.Adam(learning_rate=0.001)"
   ]
  },
  {
   "cell_type": "code",
   "execution_count": 47,
   "id": "77f28862",
   "metadata": {},
   "outputs": [],
   "source": [
    "# use mean squared error to calculate the difference between predicted and actual\n",
    "model.compile(optimizer=optimizer, loss=\"mse\")"
   ]
  },
  {
   "cell_type": "code",
   "execution_count": 48,
   "id": "3fea2d22",
   "metadata": {},
   "outputs": [
    {
     "name": "stdout",
     "output_type": "stream",
     "text": [
      "Model: \"sequential\"\n",
      "_________________________________________________________________\n",
      " Layer (type)                Output Shape              Param #   \n",
      "=================================================================\n",
      " conv1d (Conv1D)             (None, 144, 32)           256       \n",
      "                                                                 \n",
      " dropout (Dropout)           (None, 144, 32)           0         \n",
      "                                                                 \n",
      " conv1d_1 (Conv1D)           (None, 72, 16)            3600      \n",
      "                                                                 \n",
      " conv1d_transpose (Conv1DTra  (None, 144, 16)          1808      \n",
      " nspose)                                                         \n",
      "                                                                 \n",
      " dropout_1 (Dropout)         (None, 144, 16)           0         \n",
      "                                                                 \n",
      " conv1d_transpose_1 (Conv1DT  (None, 288, 32)          3616      \n",
      " ranspose)                                                       \n",
      "                                                                 \n",
      " conv1d_transpose_2 (Conv1DT  (None, 288, 1)           225       \n",
      " ranspose)                                                       \n",
      "                                                                 \n",
      "=================================================================\n",
      "Total params: 9,505\n",
      "Trainable params: 9,505\n",
      "Non-trainable params: 0\n",
      "_________________________________________________________________\n"
     ]
    }
   ],
   "source": [
    "#summary of the model\n",
    "model.summary()"
   ]
  },
  {
   "cell_type": "code",
   "execution_count": 49,
   "id": "7655eae6",
   "metadata": {},
   "outputs": [
    {
     "name": "stdout",
     "output_type": "stream",
     "text": [
      "Epoch 1/50\n",
      "27/27 [==============================] - 5s 107ms/step - loss: 0.6514 - val_loss: 0.4075\n",
      "Epoch 2/50\n",
      "27/27 [==============================] - 2s 73ms/step - loss: 0.1440 - val_loss: 0.0603\n",
      "Epoch 3/50\n",
      "27/27 [==============================] - 2s 79ms/step - loss: 0.0589 - val_loss: 0.0366\n",
      "Epoch 4/50\n",
      "27/27 [==============================] - 2s 74ms/step - loss: 0.0488 - val_loss: 0.0315\n",
      "Epoch 5/50\n",
      "27/27 [==============================] - 2s 78ms/step - loss: 0.0428 - val_loss: 0.0289\n",
      "Epoch 6/50\n",
      "27/27 [==============================] - 3s 96ms/step - loss: 0.0385 - val_loss: 0.0265\n",
      "Epoch 7/50\n",
      "27/27 [==============================] - 3s 96ms/step - loss: 0.0349 - val_loss: 0.0252\n",
      "Epoch 8/50\n",
      "27/27 [==============================] - 2s 74ms/step - loss: 0.0320 - val_loss: 0.0247\n",
      "Epoch 9/50\n",
      "27/27 [==============================] - 2s 81ms/step - loss: 0.0292 - val_loss: 0.0248\n",
      "Epoch 10/50\n",
      "27/27 [==============================] - 2s 74ms/step - loss: 0.0269 - val_loss: 0.0224\n",
      "Epoch 11/50\n",
      "27/27 [==============================] - 2s 83ms/step - loss: 0.0251 - val_loss: 0.0211\n",
      "Epoch 12/50\n",
      "27/27 [==============================] - 2s 81ms/step - loss: 0.0234 - val_loss: 0.0191\n",
      "Epoch 13/50\n",
      "27/27 [==============================] - 2s 80ms/step - loss: 0.0221 - val_loss: 0.0188\n",
      "Epoch 14/50\n",
      "27/27 [==============================] - 2s 77ms/step - loss: 0.0209 - val_loss: 0.0177\n",
      "Epoch 15/50\n",
      "27/27 [==============================] - 2s 73ms/step - loss: 0.0198 - val_loss: 0.0163\n",
      "Epoch 16/50\n",
      "27/27 [==============================] - 2s 80ms/step - loss: 0.0189 - val_loss: 0.0154\n",
      "Epoch 17/50\n",
      "27/27 [==============================] - 2s 76ms/step - loss: 0.0181 - val_loss: 0.0153\n",
      "Epoch 18/50\n",
      "27/27 [==============================] - 2s 72ms/step - loss: 0.0173 - val_loss: 0.0145\n",
      "Epoch 19/50\n",
      "27/27 [==============================] - 2s 74ms/step - loss: 0.0167 - val_loss: 0.0139\n",
      "Epoch 20/50\n",
      "27/27 [==============================] - 2s 71ms/step - loss: 0.0160 - val_loss: 0.0127\n",
      "Epoch 21/50\n",
      "27/27 [==============================] - 2s 72ms/step - loss: 0.0155 - val_loss: 0.0126\n",
      "Epoch 22/50\n",
      "27/27 [==============================] - 2s 71ms/step - loss: 0.0150 - val_loss: 0.0122\n",
      "Epoch 23/50\n",
      "27/27 [==============================] - 2s 75ms/step - loss: 0.0144 - val_loss: 0.0117\n",
      "Epoch 24/50\n",
      "27/27 [==============================] - 2s 73ms/step - loss: 0.0139 - val_loss: 0.0111\n",
      "Epoch 25/50\n",
      "27/27 [==============================] - 2s 72ms/step - loss: 0.0133 - val_loss: 0.0104\n",
      "Epoch 26/50\n",
      "27/27 [==============================] - 2s 71ms/step - loss: 0.0127 - val_loss: 0.0093\n",
      "Epoch 27/50\n",
      "27/27 [==============================] - 2s 74ms/step - loss: 0.0122 - val_loss: 0.0089\n",
      "Epoch 28/50\n",
      "27/27 [==============================] - 2s 75ms/step - loss: 0.0117 - val_loss: 0.0085\n",
      "Epoch 29/50\n",
      "27/27 [==============================] - 2s 74ms/step - loss: 0.0113 - val_loss: 0.0085\n",
      "Epoch 30/50\n",
      "27/27 [==============================] - 2s 73ms/step - loss: 0.0110 - val_loss: 0.0084\n",
      "Epoch 31/50\n",
      "27/27 [==============================] - 2s 73ms/step - loss: 0.0106 - val_loss: 0.0079\n",
      "Epoch 32/50\n",
      "27/27 [==============================] - 2s 72ms/step - loss: 0.0104 - val_loss: 0.0079\n",
      "Epoch 33/50\n",
      "27/27 [==============================] - 2s 71ms/step - loss: 0.0101 - val_loss: 0.0074\n",
      "Epoch 34/50\n",
      "27/27 [==============================] - 2s 72ms/step - loss: 0.0098 - val_loss: 0.0077\n",
      "Epoch 35/50\n",
      "27/27 [==============================] - 2s 72ms/step - loss: 0.0096 - val_loss: 0.0074\n",
      "Epoch 36/50\n",
      "27/27 [==============================] - 2s 72ms/step - loss: 0.0094 - val_loss: 0.0073\n",
      "Epoch 37/50\n",
      "27/27 [==============================] - 2s 73ms/step - loss: 0.0091 - val_loss: 0.0070\n",
      "Epoch 38/50\n",
      "27/27 [==============================] - 2s 73ms/step - loss: 0.0089 - val_loss: 0.0070\n",
      "Epoch 39/50\n",
      "27/27 [==============================] - 2s 72ms/step - loss: 0.0087 - val_loss: 0.0067\n",
      "Epoch 40/50\n",
      "27/27 [==============================] - 2s 71ms/step - loss: 0.0084 - val_loss: 0.0064\n",
      "Epoch 41/50\n",
      "27/27 [==============================] - 2s 71ms/step - loss: 0.0081 - val_loss: 0.0060\n",
      "Epoch 42/50\n",
      "27/27 [==============================] - 2s 71ms/step - loss: 0.0078 - val_loss: 0.0057\n",
      "Epoch 43/50\n",
      "27/27 [==============================] - 2s 73ms/step - loss: 0.0076 - val_loss: 0.0054\n",
      "Epoch 44/50\n",
      "27/27 [==============================] - 2s 70ms/step - loss: 0.0074 - val_loss: 0.0052\n",
      "Epoch 45/50\n",
      "27/27 [==============================] - 2s 73ms/step - loss: 0.0073 - val_loss: 0.0051\n",
      "Epoch 46/50\n",
      "27/27 [==============================] - 2s 71ms/step - loss: 0.0071 - val_loss: 0.0049\n",
      "Epoch 47/50\n",
      "27/27 [==============================] - 2s 71ms/step - loss: 0.0070 - val_loss: 0.0051\n",
      "Epoch 48/50\n",
      "27/27 [==============================] - 2s 72ms/step - loss: 0.0068 - val_loss: 0.0048\n",
      "Epoch 49/50\n",
      "27/27 [==============================] - 2s 72ms/step - loss: 0.0067 - val_loss: 0.0046\n",
      "Epoch 50/50\n",
      "27/27 [==============================] - 2s 71ms/step - loss: 0.0066 - val_loss: 0.0046\n"
     ]
    }
   ],
   "source": [
    "#start training the model using training set, set 128 as batch size(no. of data entries to pass through model in one iteration)\n",
    "#and 50 as epochs (amount of times whole dataset gets passed through the model) \n",
    "#validation split specifies how much of the data will be set aside to test\n",
    "#callbacks stops it printing a long output\n",
    "history = model.fit(\n",
    "    x_train,\n",
    "    x_train,\n",
    "    epochs=50,\n",
    "    batch_size=128,\n",
    "    validation_split=0.1,\n",
    "    callbacks=[\n",
    "        keras.callbacks.EarlyStopping(monitor=\"val_loss\", patience=5, mode=\"min\")\n",
    "    ],\n",
    ")"
   ]
  },
  {
   "cell_type": "code",
   "execution_count": 50,
   "id": "4d5abe6b",
   "metadata": {},
   "outputs": [
    {
     "data": {
      "text/plain": [
       "[0.6514021754264832,\n",
       " 0.14396366477012634,\n",
       " 0.05885094776749611,\n",
       " 0.04883912578225136,\n",
       " 0.04277637228369713,\n",
       " 0.03848975524306297,\n",
       " 0.034920815378427505,\n",
       " 0.031983133405447006,\n",
       " 0.029209282249212265,\n",
       " 0.02694098837673664,\n",
       " 0.025095924735069275,\n",
       " 0.023405462503433228,\n",
       " 0.02206462249159813,\n",
       " 0.020909352228045464,\n",
       " 0.01984509266912937,\n",
       " 0.018921343609690666,\n",
       " 0.01806289330124855,\n",
       " 0.017297517508268356,\n",
       " 0.016653135418891907,\n",
       " 0.016031067818403244,\n",
       " 0.015527677722275257,\n",
       " 0.014986175112426281,\n",
       " 0.01441378053277731,\n",
       " 0.013907241635024548,\n",
       " 0.013262394815683365,\n",
       " 0.012742453254759312,\n",
       " 0.012170854955911636,\n",
       " 0.011736897751688957,\n",
       " 0.011293825693428516,\n",
       " 0.010958940722048283,\n",
       " 0.010634983889758587,\n",
       " 0.010351541452109814,\n",
       " 0.010116606950759888,\n",
       " 0.009778942912817001,\n",
       " 0.009572821669280529,\n",
       " 0.009374403394758701,\n",
       " 0.00910656712949276,\n",
       " 0.008918749168515205,\n",
       " 0.008683699183166027,\n",
       " 0.008419563062489033,\n",
       " 0.008146056905388832,\n",
       " 0.007842881605029106,\n",
       " 0.007599815726280212,\n",
       " 0.007423243019729853,\n",
       " 0.007302401587367058,\n",
       " 0.007097133435308933,\n",
       " 0.00696376571431756,\n",
       " 0.006847519893199205,\n",
       " 0.006697333883494139,\n",
       " 0.006617104168981314]"
      ]
     },
     "execution_count": 50,
     "metadata": {},
     "output_type": "execute_result"
    }
   ],
   "source": [
    "#show loss column\n",
    "history.history[\"loss\"]"
   ]
  },
  {
   "cell_type": "code",
   "execution_count": 51,
   "id": "2f72921b",
   "metadata": {},
   "outputs": [
    {
     "data": {
      "text/plain": [
       "[0.40750959515571594,\n",
       " 0.06025107204914093,\n",
       " 0.036603894084692,\n",
       " 0.031451527029275894,\n",
       " 0.02890068106353283,\n",
       " 0.026450684294104576,\n",
       " 0.025172490626573563,\n",
       " 0.024676010012626648,\n",
       " 0.024763843044638634,\n",
       " 0.0223934855312109,\n",
       " 0.021052997559309006,\n",
       " 0.019102338701486588,\n",
       " 0.018840106204152107,\n",
       " 0.01767825148999691,\n",
       " 0.016303854063153267,\n",
       " 0.015392255038022995,\n",
       " 0.015256417915225029,\n",
       " 0.014479044824838638,\n",
       " 0.013874105177819729,\n",
       " 0.012697344645857811,\n",
       " 0.012596224434673786,\n",
       " 0.012190597131848335,\n",
       " 0.011688229627907276,\n",
       " 0.011127928271889687,\n",
       " 0.010360993444919586,\n",
       " 0.00931643508374691,\n",
       " 0.008897746913135052,\n",
       " 0.008459015749394894,\n",
       " 0.008548939600586891,\n",
       " 0.008442130871117115,\n",
       " 0.007872916758060455,\n",
       " 0.007909904234111309,\n",
       " 0.007354157976806164,\n",
       " 0.007689004763960838,\n",
       " 0.007386067882180214,\n",
       " 0.007316687144339085,\n",
       " 0.0070221805945038795,\n",
       " 0.006983924191445112,\n",
       " 0.0066529870964586735,\n",
       " 0.006366604007780552,\n",
       " 0.005961019080132246,\n",
       " 0.005711155477911234,\n",
       " 0.005380486603826284,\n",
       " 0.005170804914087057,\n",
       " 0.005082427524030209,\n",
       " 0.004891397897154093,\n",
       " 0.005072709172964096,\n",
       " 0.004844074137508869,\n",
       " 0.004574254155158997,\n",
       " 0.004614543169736862]"
      ]
     },
     "execution_count": 51,
     "metadata": {},
     "output_type": "execute_result"
    }
   ],
   "source": [
    "#show val_loss column\n",
    "history.history[\"val_loss\"]"
   ]
  },
  {
   "cell_type": "markdown",
   "id": "996a0760",
   "metadata": {},
   "source": [
    "<h2 style=\"color: #8A2BE2;\">How well did the model do ?</h2>"
   ]
  },
  {
   "cell_type": "code",
   "execution_count": 52,
   "id": "372b8e92",
   "metadata": {},
   "outputs": [
    {
     "data": {
      "image/png": "[encoded data removed]",
      "text/plain": [
       "<Figure size 1008x432 with 1 Axes>"
      ]
     },
     "metadata": {
      "needs_background": "light"
     },
     "output_type": "display_data"
    }
   ],
   "source": [
    "# create a plot and set figure size\n",
    "fig, ax = plt.subplots(figsize=(14, 6))\n",
    "# plot training loss in blue\n",
    "ax.plot(history.history[\"loss\"], label=\"Training Loss\")\n",
    "# plot validation loss in orange\n",
    "ax.plot(history.history[\"val_loss\"], label=\"Validation Loss\")\n",
    "# add legend\n",
    "ax.legend();"
   ]
  },
  {
   "cell_type": "markdown",
   "id": "2d25b8c2",
   "metadata": {},
   "source": [
    "The above plot shows how well the model fit the training set vs the validation set as it progresses through the epochs. The validation data is the data that was kept aside and model was tested with it as new data after fitting the training data. As you can see the model progressively improves as the loss decreases as it moves towards 50 epochs."
   ]
  },
  {
   "cell_type": "code",
   "execution_count": 53,
   "id": "be685a8f",
   "metadata": {},
   "outputs": [
    {
     "name": "stdout",
     "output_type": "stream",
     "text": [
      "118/118 [==============================] - 1s 7ms/step\n"
     ]
    }
   ],
   "source": [
    "# Get train MAE loss.\n",
    "x_train_pred = model.predict(x_train)"
   ]
  },
  {
   "cell_type": "code",
   "execution_count": 54,
   "id": "7565d224",
   "metadata": {},
   "outputs": [],
   "source": [
    "# Calculate loss...\n",
    "train_mae_loss = np.mean(np.abs(x_train_pred - x_train), axis=1)"
   ]
  },
  {
   "cell_type": "code",
   "execution_count": 55,
   "id": "df98676d",
   "metadata": {},
   "outputs": [
    {
     "data": {
      "image/png": "[encoded data removed]",
      "text/plain": [
       "<Figure size 720x432 with 1 Axes>"
      ]
     },
     "metadata": {
      "needs_background": "light"
     },
     "output_type": "display_data"
    }
   ],
   "source": [
    "# create a plot and set figsize\n",
    "fig, ax = plt.subplots(figsize=(10, 6))\n",
    "# create a histogram\n",
    "ax.hist(train_mae_loss, bins=50)\n",
    "# set x axis label\n",
    "ax.set_xlabel(\"Train MAE loss\")\n",
    "# set y axis label\n",
    "ax.set_ylabel(\"No of samples\");"
   ]
  },
  {
   "cell_type": "code",
   "execution_count": 56,
   "id": "98b13673",
   "metadata": {},
   "outputs": [
    {
     "data": {
      "text/plain": [
       "0.06401665118236106"
      ]
     },
     "execution_count": 56,
     "metadata": {},
     "output_type": "execute_result"
    }
   ],
   "source": [
    "# Get reconstruction loss threshold.\n",
    "threshold = np.max(train_mae_loss)\n",
    "\n",
    "# \n",
    "threshold"
   ]
  },
  {
   "cell_type": "code",
   "execution_count": 57,
   "id": "31b5ffc1",
   "metadata": {},
   "outputs": [
    {
     "data": {
      "image/png": "[encoded data removed]",
      "text/plain": [
       "<Figure size 720x432 with 1 Axes>"
      ]
     },
     "metadata": {
      "needs_background": "light"
     },
     "output_type": "display_data"
    }
   ],
   "source": [
    "# create a plot\n",
    "fig, ax = plt.subplots(figsize=(10, 6))\n",
    "\n",
    "# plot training set\n",
    "ax.plot(x_train[0])\n",
    "\n",
    "# plot predictions\n",
    "ax.plot(x_train_pred[0]);"
   ]
  },
  {
   "cell_type": "markdown",
   "id": "26e11ee2",
   "metadata": {},
   "source": [
    "<h4>Analysis</h4>\n",
    "The plot shows the training set values vs the predicted values of the training set. It is clear the model did a good job at predicting the values as both trends seem to overlap quite alot.[26][27]"
   ]
  },
  {
   "cell_type": "markdown",
   "id": "af1af18b",
   "metadata": {},
   "source": [
    "<h4>Create a test dataset</h4>"
   ]
  },
  {
   "cell_type": "code",
   "execution_count": 58,
   "id": "ef0fcc1a",
   "metadata": {},
   "outputs": [],
   "source": [
    "# normalise test values\n",
    "df_test_value = (df_daily_jumpsup - train_mean) / train_std"
   ]
  },
  {
   "cell_type": "code",
   "execution_count": 59,
   "id": "6c9fe630",
   "metadata": {},
   "outputs": [
    {
     "data": {
      "image/png": "[encoded data removed]",
      "text/plain": [
       "<Figure size 720x432 with 1 Axes>"
      ]
     },
     "metadata": {
      "needs_background": "light"
     },
     "output_type": "display_data"
    }
   ],
   "source": [
    "# create plot\n",
    "fig, ax = plt.subplots(figsize=(10, 6))\n",
    "\n",
    "# plot test values\n",
    "df_test_value.plot(legend=False, ax=ax);"
   ]
  },
  {
   "cell_type": "code",
   "execution_count": 60,
   "id": "317bc161",
   "metadata": {},
   "outputs": [
    {
     "data": {
      "text/plain": [
       "(3745, 288, 1)"
      ]
     },
     "execution_count": 60,
     "metadata": {},
     "output_type": "execute_result"
    }
   ],
   "source": [
    "# Create sequences from test values.\n",
    "x_test = windows(df_test_value.values)\n",
    "\n",
    "x_test.shape"
   ]
  },
  {
   "cell_type": "code",
   "execution_count": 61,
   "id": "a65a1477",
   "metadata": {},
   "outputs": [
    {
     "name": "stdout",
     "output_type": "stream",
     "text": [
      "118/118 [==============================] - 1s 6ms/step\n"
     ]
    }
   ],
   "source": [
    "# use the model to predict values of the test set\n",
    "x_test_pred = model.predict(x_test)"
   ]
  },
  {
   "cell_type": "code",
   "execution_count": 62,
   "id": "492856a0",
   "metadata": {},
   "outputs": [
    {
     "data": {
      "text/plain": [
       "array([[0.04523225],\n",
       "       [0.04934918],\n",
       "       [0.04774573],\n",
       "       ...,\n",
       "       [0.05242613],\n",
       "       [0.0523433 ],\n",
       "       [0.05302869]])"
      ]
     },
     "execution_count": 62,
     "metadata": {},
     "output_type": "execute_result"
    }
   ],
   "source": [
    "# get the mean squared error\n",
    "test_mae_loss = np.mean(np.abs(x_test_pred - x_test), axis=1)\n",
    "\n",
    "test_mae_loss"
   ]
  },
  {
   "cell_type": "code",
   "execution_count": 63,
   "id": "4fffa103",
   "metadata": {},
   "outputs": [
    {
     "data": {
      "text/plain": [
       "array([0.04523225, 0.04934918, 0.04774573, ..., 0.05242613, 0.0523433 ,\n",
       "       0.05302869])"
      ]
     },
     "execution_count": 63,
     "metadata": {},
     "output_type": "execute_result"
    }
   ],
   "source": [
    "# put the mean absolute error values in one array\n",
    "test_mae_loss = test_mae_loss.reshape((-1))\n",
    "\n",
    "test_mae_loss"
   ]
  },
  {
   "cell_type": "code",
   "execution_count": 64,
   "id": "a9bc0ac3",
   "metadata": {},
   "outputs": [
    {
     "data": {
      "image/png": "[encoded data removed]",
      "text/plain": [
       "<Figure size 720x432 with 1 Axes>"
      ]
     },
     "metadata": {
      "needs_background": "light"
     },
     "output_type": "display_data"
    }
   ],
   "source": [
    "# create a plot\n",
    "fig, ax = plt.subplots(figsize=(10, 6))\n",
    "\n",
    "#create a hisogram showing the errors recieved when predicting the test set \n",
    "ax.hist(test_mae_loss, bins=50)\n",
    "\n",
    "# set x axis labels\n",
    "ax.set_xlabel(\"test MAE loss\")\n",
    "\n",
    "# set y axis labels\n",
    "ax.set_ylabel(\"No of samples\");"
   ]
  },
  {
   "cell_type": "markdown",
   "id": "53778efc",
   "metadata": {},
   "source": [
    "Analysis: The mean absolute error seems to be low for most of the values except a couple of hundred that got a higher error"
   ]
  },
  {
   "cell_type": "code",
   "execution_count": 65,
   "id": "07cfa89e",
   "metadata": {},
   "outputs": [
    {
     "data": {
      "text/plain": [
       "414"
      ]
     },
     "execution_count": 65,
     "metadata": {},
     "output_type": "execute_result"
    }
   ],
   "source": [
    "# Detect all the samples which are anomalies.\n",
    "anomalies = test_mae_loss > threshold\n",
    "\n",
    "# NUmber of anomalies.\n",
    "np.sum(anomalies)"
   ]
  },
  {
   "cell_type": "code",
   "execution_count": 66,
   "id": "5c53882d",
   "metadata": {},
   "outputs": [],
   "source": [
    "# data i is an anomaly if samples [(i - timesteps + 1) to (i)] are anomalies\n",
    "inds = []\n",
    "\n",
    "for i in range(window_size - 1, len(df_test_value) - window_size + 1):\n",
    "    if np.all(anomalies[i - window_size + 1 : i]):\n",
    "        inds.append(i)"
   ]
  },
  {
   "cell_type": "code",
   "execution_count": 67,
   "id": "3e8c1520",
   "metadata": {},
   "outputs": [],
   "source": [
    "# anomalies in dataset\n",
    "df_subset = df_daily_jumpsup.iloc[inds]"
   ]
  },
  {
   "cell_type": "code",
   "execution_count": 68,
   "id": "a07b6b09",
   "metadata": {},
   "outputs": [
    {
     "data": {
      "image/png": "[encoded data removed]",
      "text/plain": [
       "<Figure size 720x432 with 1 Axes>"
      ]
     },
     "metadata": {
      "needs_background": "light"
     },
     "output_type": "display_data"
    }
   ],
   "source": [
    "#create a plot \n",
    "fig, ax = plt.subplots(figsize=(10, 6))\n",
    "\n",
    "# plot the dataset with anomalies\n",
    "df_daily_jumpsup.plot(legend=False, ax=ax)\n",
    "\n",
    "# plot the subset of anomalies in a red colour\n",
    "df_subset.plot(legend=False, ax=ax, color=\"r\");"
   ]
  },
  {
   "cell_type": "markdown",
   "id": "897bb9db",
   "metadata": {},
   "source": [
    "<h2 style=\"color: #8A2BE2;\">Conclusion</h2>\n",
    "\n",
    "The keras classifier model is a good model to use for detecting anomalies in a dataset. The model predicted the test dataset very well in comparison to the training dataset. It also had a low mean absolute errors which means there was little difference between the actual data and the predicted data. When the model was given anomalies it handled them well and didn't ignore them so they show up in the output data, this is good as we can detect them.\n",
    "\n",
    "Possible improvements that could be made in my documentation would be to try out more examples and use a wider variety of graphs to plot the concepts. A deeper analysis could be made on all the machine learning processes that were carried out as there is an endless number of resources to gain a proper understanding of whats happening in the background."
   ]
  },
  {
   "cell_type": "markdown",
   "id": "61c77121",
   "metadata": {},
   "source": [
    "<h2 style=\"color: #8A2BE2;\">Reference:</h2>"
   ]
  },
  {
   "cell_type": "markdown",
   "id": "ddcc7676",
   "metadata": {},
   "source": [
    "[1] https://keras.io/examples/timeseries/timeseries_anomaly_detection/ <br>\n",
    "[2] https://www.google.com/search?q=anomaly+meaning&rlz=1C1CHBF_enIE846IE846&oq=anomaly&aqs=chrome.1.69i57j0i131i433i512j0i512j0i131i433i512j0i512j69i60j69i61l2.4659j0j7&sourceid=chrome&ie=UTF-8 <br>\n",
    "[3] https://www.analyticsvidhya.com/blog/2021/08/univariate-time-series-anomaly-detection-using-arima-model/#h2_1 <br>\n",
    "[4] https://www.mindbridge.ai/blog/what-is-anomaly-detection-and-why-is-it-important/#:~:text=Anomaly%20detection%20is%20the%20ability,control%20failures%2C%20or%20business%20opportunities. <br>\n",
    "[5] https://www.activestate.com/resources/quick-reads/what-is-a-keras-model/ <br>\n",
    "[6] https://www.kaggle.com/datasets/boltzmannbrain/nab <br>\n",
    "[7] https://github.com/numenta/NAB <br>\n",
    "[8] https://www.sciencedirect.com/science/article/pii/S0925231217309864 <br>\n",
    "[9] https://pandas.pydata.org/docs/reference/api/pandas.DataFrame.describe.html <br>\n",
    "[10] https://developers.google.com/machine-learning/data-prep/transform/normalization <br>\n",
    "[11] https://learn.microsoft.com/en-us/azure/machine-learning/component-reference/normalize-data <br>\n",
    "[12] https://medium.com/@mkc940/different-normalization-methods-a1be71fe9f1 <br>\n",
    "[13] https://matplotlib.org/stable/tutorials/colors/colormaps.html\n",
    "[14] https://www.geeksforgeeks.org/flatten-a-matrix-in-python-using-numpy/ <br>\n",
    "[15] https://aws.amazon.com/what-is/neural-network/#:~:text=A%20neural%20network%20is%20a,that%20resembles%20the%20human%20brain.<br>\n",
    "[16] https://www.ibm.com/topics/neural-networks <br>\n",
    "[17] https://www.v7labs.com/blog/neural-networks-activation-functions#:~:text=drive%20V7's%20tools.-,What%20is%20a%20Neural%20Network%20Activation%20Function%3F,prediction%20using%20simpler%20mathematical%20operations.\n",
    "[18] https://machinelearningmastery.com/rectified-linear-activation-function-for-deep-learning-neural-networks/\n",
    "[19] https://keras.io/api/layers/convolution_layers/convolution1d/\n",
    "[20] https://machinelearningmastery.com/dropout-regularization-deep-learning-models-keras/\n",
    "[21] https://www.tensorflow.org/api_docs/python/tf/keras/layers/Conv1DTranspose\n",
    "[22] https://www.tensorflow.org/api_docs/python/tf/keras/optimizers/Adam\n",
    "[23] https://towardsdatascience.com/gradient-descent-algorithm-a-deep-dive-cf04e8115f21\n",
    "[24] https://www.ibm.com/topics/gradient-descent#:~:text=Gradient%20descent%20is%20an%20optimization,each%20iteration%20of%20parameter%20updates.\n",
    "[25] https://en.wikipedia.org/wiki/Overfitting\n",
    "[26] https://www.baeldung.com/cs/learning-curve-ml#:~:text=The%20training%20loss%20indicates%20how,the%20model%20fits%20new%20data.&text=Another%20common%20practice%20is%20to,those%20metrics%20for%20different%20models.\n",
    "[27] https://towardsdatascience.com/understanding-the-3-most-common-loss-functions-for-machine-learning-regression-23e0ef3e14d3"
   ]
  },
  {
   "cell_type": "markdown",
   "id": "ee3e03a2",
   "metadata": {},
   "source": []
  }
 ],
 "metadata": {
  "kernelspec": {
   "display_name": "Python 3 (ipykernel)",
   "language": "python",
   "name": "python3"
  },
  "language_info": {
   "codemirror_mode": {
    "name": "ipython",
    "version": 3
   },
   "file_extension": ".py",
   "mimetype": "text/x-python",
   "name": "python",
   "nbconvert_exporter": "python",
   "pygments_lexer": "ipython3",
   "version": "3.9.7"
  }
 },
 "nbformat": 4,
 "nbformat_minor": 5
}

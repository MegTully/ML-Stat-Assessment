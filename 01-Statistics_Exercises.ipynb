{
 "cells": [
  {
   "cell_type": "markdown",
   "id": "d94e1b14",
   "metadata": {},
   "source": [
    "<h3 style=\"color: #001a79;\">Exercise 1</h3>\n",
    "\n",
    "<hr style=\"border-top: 1px solid #001a79;\" />\n",
    "\n",
    "The above gives about a 1.5% chance of randomly selecting the correct cups. Calculate the minimum number of cups of tea required to ensure the probability of randomly selecting the correct cups is less than or equal to 1%."
   ]
  },
  {
   "cell_type": "markdown",
   "id": "09b337df",
   "metadata": {},
   "source": [
    "The combinatorial function was gotten from https://stackoverflow.com/a/4941932"
   ]
  },
  {
   "cell_type": "code",
   "execution_count": 2,
   "id": "3e916840",
   "metadata": {},
   "outputs": [],
   "source": [
    "#Import math module\n",
    "import math"
   ]
  },
  {
   "cell_type": "code",
   "execution_count": 3,
   "id": "76f9d4e9",
   "metadata": {},
   "outputs": [
    {
     "data": {
      "text/plain": [
       "70"
      ]
     },
     "execution_count": 3,
     "metadata": {},
     "output_type": "execute_result"
    }
   ],
   "source": [
    "math.comb(8,4)"
   ]
  },
  {
   "cell_type": "code",
   "execution_count": 5,
   "id": "351b788a",
   "metadata": {},
   "outputs": [
    {
     "data": {
      "text/plain": [
       "252"
      ]
     },
     "execution_count": 5,
     "metadata": {},
     "output_type": "execute_result"
    }
   ],
   "source": [
    "math.comb(10,5)"
   ]
  },
  {
   "cell_type": "code",
   "execution_count": 6,
   "id": "d15f4712",
   "metadata": {},
   "outputs": [
    {
     "data": {
      "text/plain": [
       "0.003968253968253968"
      ]
     },
     "execution_count": 6,
     "metadata": {},
     "output_type": "execute_result"
    }
   ],
   "source": [
    "#The probability selecting 5 correct cups\n",
    "1/math.comb(10,5)"
   ]
  },
  {
   "cell_type": "markdown",
   "id": "5a4d279e",
   "metadata": {},
   "source": [
    "If we experiment with 10 cups in total, 5 with milk in first and 5 with tea in first then the chance of selecting randomly and knowing how each was made is 0.3968% which is much less than 1%."
   ]
  },
  {
   "cell_type": "markdown",
   "id": "2b2e2a9f",
   "metadata": {},
   "source": [
    "Since the exercise asks for the minimum number of cups required to get a probablility of less than 1% we could try 9 cups in total, 4 with milk in first and 5 with milk in after - or vice versa."
   ]
  },
  {
   "cell_type": "code",
   "execution_count": 8,
   "id": "283e8234",
   "metadata": {},
   "outputs": [
    {
     "data": {
      "text/plain": [
       "126"
      ]
     },
     "execution_count": 8,
     "metadata": {},
     "output_type": "execute_result"
    }
   ],
   "source": [
    "#The number of ways to select 4 cups from 9\n",
    "math.comb(9,4)"
   ]
  },
  {
   "cell_type": "code",
   "execution_count": 9,
   "id": "fa152bb6",
   "metadata": {},
   "outputs": [
    {
     "data": {
      "text/plain": [
       "0.007936507936507936"
      ]
     },
     "execution_count": 9,
     "metadata": {},
     "output_type": "execute_result"
    }
   ],
   "source": [
    "#The probability selecting 4 correct cups\n",
    "1/math.comb(9,4)"
   ]
  },
  {
   "cell_type": "markdown",
   "id": "24840912",
   "metadata": {},
   "source": [
    "Therefore the minimum number of cups required would be 9 in order to have less than 1% chance of picking the correct cups "
   ]
  },
  {
   "cell_type": "markdown",
   "id": "2b542085",
   "metadata": {},
   "source": [
    "*Bonus:* How many would be required if you were to let the taster get one cup wrong while maintaining the 1% threshold?"
   ]
  },
  {
   "cell_type": "code",
   "execution_count": null,
   "id": "d1cbe01a",
   "metadata": {},
   "outputs": [],
   "source": []
  },
  {
   "cell_type": "markdown",
   "id": "d16cfffb",
   "metadata": {},
   "source": [
    "<h3 style=\"color: #001a79;\">Exercise 2</h3>\n",
    "\n",
    "<hr style=\"border-top: 1px solid #001a79;\" />\n",
    "\n",
    "Use <a href=\"https://docs.scipy.org/doc/scipy/reference/generated/scipy.stats.fisher_exact.html\" style=\"color: #ff791e\">scipy's version of Fisher's exact test</a> to simulate the Lady Tasting Tea problem."
   ]
  },
  {
   "cell_type": "code",
   "execution_count": 10,
   "id": "00bacfa7",
   "metadata": {},
   "outputs": [],
   "source": [
    "#import scipy stats module\n",
    "import scipy.stats as ss"
   ]
  },
  {
   "cell_type": "code",
   "execution_count": 11,
   "id": "ac3b2495",
   "metadata": {},
   "outputs": [
    {
     "data": {
      "text/plain": [
       "<function scipy.stats.stats.fisher_exact(table, alternative='two-sided')>"
      ]
     },
     "execution_count": 11,
     "metadata": {},
     "output_type": "execute_result"
    }
   ],
   "source": [
    "ss.fisher_exact"
   ]
  },
  {
   "cell_type": "code",
   "execution_count": 15,
   "id": "69f99cda",
   "metadata": {},
   "outputs": [
    {
     "data": {
      "text/plain": [
       "0.028571428571428536"
      ]
     },
     "execution_count": 15,
     "metadata": {},
     "output_type": "execute_result"
    }
   ],
   "source": [
    "#fishers exact test prints the answer with the oddsratio but I just want the answer so assigned the values \n",
    "#variable names and then just asked for the answer back\n",
    "oddsratio,answer=ss.fisher_exact([[4,0],[0,4]])\n",
    "answer"
   ]
  },
  {
   "cell_type": "markdown",
   "id": "0b9541e8",
   "metadata": {},
   "source": [
    "Now we need to divide the answer by the number of ways that we can choose the first 4 correct cups, e.g the four cups with milk poured first, because then you will automatically know the next four have milk poured last. So we can divide by '8 choose 4' ways. "
   ]
  },
  {
   "cell_type": "markdown",
   "id": "48b919d2",
   "metadata": {},
   "source": [
    "In order to answer this question the following link was used to help gain an understanding https://towardsdatascience.com/fishers-exact-test-from-scratch-with-python-2b907f29e593"
   ]
  },
  {
   "cell_type": "code",
   "execution_count": 16,
   "id": "d40645bc",
   "metadata": {},
   "outputs": [
    {
     "data": {
      "text/plain": [
       "0.0004081632653061219"
      ]
     },
     "execution_count": 16,
     "metadata": {},
     "output_type": "execute_result"
    }
   ],
   "source": [
    "answer/math.comb(8,4)"
   ]
  },
  {
   "cell_type": "code",
   "execution_count": 19,
   "id": "04217439",
   "metadata": {},
   "outputs": [
    {
     "data": {
      "text/plain": [
       "2"
      ]
     },
     "execution_count": 19,
     "metadata": {},
     "output_type": "execute_result"
    }
   ],
   "source": [
    "math.comb(2,1)"
   ]
  },
  {
   "cell_type": "markdown",
   "id": "ce064f96",
   "metadata": {},
   "source": [
    "<h3 style=\"color: #001a79;\">Exercise 3</h3>\n",
    "\n",
    "Take the code from the <a href=\"https://docs.scipy.org/doc/scipy/reference/generated/scipy.stats.ttest_ind.html\" style=\"color: #ff791e\">Examples section of the scipy stats documentation for independent samples t-tests</a>, add it to your own notebook and add explain how it works using MarkDown cells and code comments. Improve it in any way you think it could be improved.\n",
    "<hr style=\"border-top: 1px solid #001a79;\" />"
   ]
  },
  {
   "cell_type": "markdown",
   "id": "78190c8c",
   "metadata": {},
   "source": [
    "Step 1: Install all necessary packages"
   ]
  },
  {
   "cell_type": "code",
   "execution_count": 1,
   "id": "bffedb8e",
   "metadata": {},
   "outputs": [],
   "source": [
    "#import numpy package\n",
    "import numpy as np\n",
    "#import stats package from scipy\n",
    "from scipy import stats"
   ]
  },
  {
   "cell_type": "markdown",
   "id": "f0d4d0dc",
   "metadata": {},
   "source": [
    "Step 2:Create a range of random numbers in a wide range of distributions to choose from in the functions to follow"
   ]
  },
  {
   "cell_type": "code",
   "execution_count": 3,
   "id": "9ef448a0",
   "metadata": {},
   "outputs": [],
   "source": [
    "#Create a variable called \"rng\" which is equal to an array of randomly generated numbers\n",
    "rng = np.random.default_rng()"
   ]
  },
  {
   "cell_type": "markdown",
   "id": "7bfd0616",
   "metadata": {},
   "source": [
    "Step 3:Create 2 random variable samples, with normal distribution and have identical means and standard deviation. Then run an independent t-test on them."
   ]
  },
  {
   "cell_type": "code",
   "execution_count": 4,
   "id": "bc59ab13",
   "metadata": {},
   "outputs": [
    {
     "data": {
      "text/plain": [
       "Ttest_indResult(statistic=0.623566878816196, pvalue=0.5330545541871776)"
      ]
     },
     "execution_count": 4,
     "metadata": {},
     "output_type": "execute_result"
    }
   ],
   "source": [
    "#Create 2 random variable samples,using the \"stats.norm.rvs\" function, called \"rvs1\" and \"rvs2\"\n",
    "#The parameters: loc= mean, scale= st dev, size= sample size, random_state= select variables from our rng array above\n",
    "rvs1 = stats.norm.rvs(loc=5, scale=10, size=500, random_state=rng)\n",
    "rvs2 = stats.norm.rvs(loc=5, scale=10, size=500, random_state=rng)\n",
    "#Use stats.ttest_ind function to run a t-test on our 2 samples\n",
    "stats.ttest_ind(rvs1, rvs2)"
   ]
  },
  {
   "cell_type": "markdown",
   "id": "a88078b1",
   "metadata": {},
   "source": [
    "Results:The t-test statistics is 0.623566878816196 and the corresponding p-value is equal to 0.5330545541871776\n",
    "<hr style=\"border-top: 1px solid #001a79;\" />\n",
    "<h4 style=\"color: #001a79;\">Experiment with parameters</h4>"
   ]
  },
  {
   "cell_type": "markdown",
   "id": "37f679df",
   "metadata": {},
   "source": [
    "The t-test assumes equal population variance but the t-test often underestimates the p-value for unequal variance"
   ]
  },
  {
   "cell_type": "markdown",
   "id": "5236b3de",
   "metadata": {},
   "source": [
    "Below the variance is set to unequal but there is no change in results as the mean and st dev of the 2 samples is the same so the variance is equal"
   ]
  },
  {
   "cell_type": "code",
   "execution_count": 5,
   "id": "b43641e2",
   "metadata": {},
   "outputs": [
    {
     "data": {
      "text/plain": [
       "Ttest_indResult(statistic=0.623566878816196, pvalue=0.5330546694729155)"
      ]
     },
     "execution_count": 5,
     "metadata": {},
     "output_type": "execute_result"
    }
   ],
   "source": [
    "#You can set equal_var to False if the population variance is unequal which in this case makes no diff from above\n",
    "stats.ttest_ind(rvs1, rvs2, equal_var=False)"
   ]
  },
  {
   "cell_type": "markdown",
   "id": "778b82a5",
   "metadata": {},
   "source": [
    "Compare the results of changing the equal_var parameter using samples with different standard deviations:"
   ]
  },
  {
   "cell_type": "code",
   "execution_count": 8,
   "id": "1c91b16f",
   "metadata": {},
   "outputs": [
    {
     "data": {
      "text/plain": [
       "Ttest_indResult(statistic=0.13069772385526884, pvalue=0.8960407725944043)"
      ]
     },
     "execution_count": 8,
     "metadata": {},
     "output_type": "execute_result"
    }
   ],
   "source": [
    "#Create a third random variable sample similar to previously except change the loc/mean and scale/st dev\n",
    "#equal_var=True by default\n",
    "rvs3 = stats.norm.rvs(loc=5, scale=20, size=500, random_state=rng)\n",
    "stats.ttest_ind(rvs1, rvs3)"
   ]
  },
  {
   "cell_type": "code",
   "execution_count": 7,
   "id": "d1b02272",
   "metadata": {},
   "outputs": [
    {
     "data": {
      "text/plain": [
       "Ttest_indResult(statistic=0.6336874694151027, pvalue=0.5264818682202548)"
      ]
     },
     "execution_count": 7,
     "metadata": {},
     "output_type": "execute_result"
    }
   ],
   "source": [
    "#Run the test again but change equal_var to equal False\n",
    "stats.ttest_ind(rvs1, rvs3, equal_var=False)"
   ]
  },
  {
   "cell_type": "markdown",
   "id": "6350f8f8",
   "metadata": {},
   "source": [
    "Results:This time the p-value changed by increasing when variance was stated as unequal"
   ]
  },
  {
   "cell_type": "markdown",
   "id": "c46e1caa",
   "metadata": {},
   "source": [
    "Next try changing the sample size so they are not equal but have equal means:"
   ]
  },
  {
   "cell_type": "code",
   "execution_count": 9,
   "id": "9c0e191d",
   "metadata": {},
   "outputs": [
    {
     "data": {
      "text/plain": [
       "Ttest_indResult(statistic=1.203274186150214, pvalue=0.22934637575588313)"
      ]
     },
     "execution_count": 9,
     "metadata": {},
     "output_type": "execute_result"
    }
   ],
   "source": [
    "#change sample size to 100\n",
    "rvs4 = stats.norm.rvs(loc=5, scale=20, size=100, random_state=rng)\n",
    "stats.ttest_ind(rvs1, rvs4)"
   ]
  },
  {
   "cell_type": "code",
   "execution_count": 10,
   "id": "4ab1509c",
   "metadata": {},
   "outputs": [
    {
     "data": {
      "text/plain": [
       "Ttest_indResult(statistic=0.8268423459294061, pvalue=0.4100967730135364)"
      ]
     },
     "execution_count": 10,
     "metadata": {},
     "output_type": "execute_result"
    }
   ],
   "source": [
    "#run again with equal_var set to false\n",
    "stats.ttest_ind(rvs1, rvs4, equal_var=False)"
   ]
  },
  {
   "cell_type": "markdown",
   "id": "67b6cfc4",
   "metadata": {},
   "source": [
    "Result:Two random variable samples of different sizes but same means have different t-test and p-value statistics when changing from equal population variance to unequal population variance"
   ]
  },
  {
   "cell_type": "markdown",
   "id": "df4f96f5",
   "metadata": {},
   "source": [
    "Lastly try compare variances of two samples that have different means,st dev and size"
   ]
  },
  {
   "cell_type": "code",
   "execution_count": 11,
   "id": "939a45ee",
   "metadata": {},
   "outputs": [
    {
     "data": {
      "text/plain": [
       "Ttest_indResult(statistic=-5.327469436566997, pvalue=1.412311827901223e-07)"
      ]
     },
     "execution_count": 11,
     "metadata": {},
     "output_type": "execute_result"
    }
   ],
   "source": [
    "#create a new sample with diff mean, scale and size to sample 1\n",
    "rvs5 = stats.norm.rvs(loc=8, scale=20, size=100, random_state=rng)\n",
    "stats.ttest_ind(rvs1, rvs5)"
   ]
  },
  {
   "cell_type": "code",
   "execution_count": 12,
   "id": "b4401265",
   "metadata": {},
   "outputs": [
    {
     "data": {
      "text/plain": [
       "Ttest_indResult(statistic=-3.483338432888841, pvalue=0.0007138234440967376)"
      ]
     },
     "execution_count": 12,
     "metadata": {},
     "output_type": "execute_result"
    }
   ],
   "source": [
    "#run again with equal_var set to false\n",
    "stats.ttest_ind(rvs1, rvs5, equal_var=False)"
   ]
  },
  {
   "cell_type": "markdown",
   "id": "f43af468",
   "metadata": {},
   "source": [
    "Results:As you can see there is an even larger difference between the results for equal population variance vs. unequal population variance\n",
    "<hr style=\"border-top: 1px solid #001a79;\" />"
   ]
  },
  {
   "cell_type": "markdown",
   "id": "2720841e",
   "metadata": {},
   "source": [
    "Note: More permutations mean more accurate results therefore you can insert a permutations parameter"
   ]
  },
  {
   "cell_type": "code",
   "execution_count": 13,
   "id": "19b03d55",
   "metadata": {},
   "outputs": [
    {
     "data": {
      "text/plain": [
       "Ttest_indResult(statistic=-5.327469436566997, pvalue=0.0)"
      ]
     },
     "execution_count": 13,
     "metadata": {},
     "output_type": "execute_result"
    }
   ],
   "source": [
    "#Insert a permutations parameter equal to 10000\n",
    "stats.ttest_ind(rvs1, rvs5, permutations=10000,random_state=rng)"
   ]
  },
  {
   "cell_type": "markdown",
   "id": "16978970",
   "metadata": {},
   "source": [
    "<hr style=\"border-top: 1px solid #001a79;\" />\n",
    "<h4 style=\"color: #001a79;\">Example</h4>"
   ]
  },
  {
   "cell_type": "code",
   "execution_count": 14,
   "id": "ade87561",
   "metadata": {},
   "outputs": [],
   "source": [
    "#Create 2 samples a and b which are a list of random numbers\n",
    "a = (56, 128.6, 12, 123.8, 64.34, 78, 763.3)\n",
    "b = (1.1, 2.9, 4.2)"
   ]
  },
  {
   "cell_type": "code",
   "execution_count": 15,
   "id": "53167ce3",
   "metadata": {},
   "outputs": [
    {
     "data": {
      "text/plain": [
       "Ttest_indResult(statistic=3.4463884028073513, pvalue=0.01369338726499547)"
      ]
     },
     "execution_count": 15,
     "metadata": {},
     "output_type": "execute_result"
    }
   ],
   "source": [
    "#run ttest function on the 2 samples\n",
    "#trim defines the fraction of elements to be trimmed from each end of the samples which is set to 20%\n",
    "stats.ttest_ind(a, b, trim=.2)"
   ]
  }
 ],
 "metadata": {
  "kernelspec": {
   "display_name": "Python 3 (ipykernel)",
   "language": "python",
   "name": "python3"
  },
  "language_info": {
   "codemirror_mode": {
    "name": "ipython",
    "version": 3
   },
   "file_extension": ".py",
   "mimetype": "text/x-python",
   "name": "python",
   "nbconvert_exporter": "python",
   "pygments_lexer": "ipython3",
   "version": "3.9.7"
  }
 },
 "nbformat": 4,
 "nbformat_minor": 5
}

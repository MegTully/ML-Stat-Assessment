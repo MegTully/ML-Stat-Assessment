{
 "cells": [
  {
   "cell_type": "markdown",
   "metadata": {},
   "source": [
    "<h1 style=\"color: rgb(0, 91, 94);\">Statistics</h1>\n",
    "\n",
    "<hr style=\"border-top: 1px solid rgb(0, 91, 94);\" />\n"
   ]
  },
  {
   "cell_type": "markdown",
   "metadata": {},
   "source": [
    "<h2 style=\"color: rgb(0, 91, 94);\">Lady Tasting Tea</h2>\n",
    "\n",
    "<hr style=\"border-top: 1px solid rgb(0, 91, 94);\" />\n",
    "\n",
    "<img src=\"https://upload.wikimedia.org/wikipedia/commons/a/aa/Youngronaldfisher2.JPG\" style=\"border: 1px solid #ff791e\" width=\"200px\">\n",
    "\n",
    "The Lady Tasting Tea problem was first described by <a href=\"http://www-history.mcs.st-andrews.ac.uk/Biographies/Fisher.html\" style=\"color: #ff791e\">Ronald A. Fisher</a> in his book The Design of Experiments.\n",
    "\n",
    "He described the problem as follows.\n",
    "\n",
    "> A lady declares that by tasting a cup of tea made with milk she can discriminate whether the milk or the tea infusion was first added to the cup: We will consider the problem of designing an experiment by means of which this assertion can be tested. For this purpose let us first lay down a simple form of experiment with a view to studying its limitations and its characteristics, both those which appear to be essential to the experimental method, when well developed, and those which are not essential but auxiliary.\n",
    "\n",
    "> Our experiment consists in mixing eight cups of tea, four in one way and four in the other, and presenting them to the subject for judgment in a random order. The subject has been told in advance of what the test will consist, namely that she will be asked to taste eight cups, that these shall be four of each kind, and that they shall be presented to her in a random order, that is in an order not determined arbitrarily by human choice, but by the actual manipulation of the physical apparatus used in games of chance, cards, dice, roulettes, etc., or, more expeditiously, from a published collection of random sampling numbers purporting to give the actual results of such manipulation. Her task is to divide the 8 cups into two sets of 4, agreeing, if possible, with the treatments received."
   ]
  },
  {
   "cell_type": "markdown",
   "metadata": {},
   "source": [
    "<h2 style=\"color: rgb(0, 91, 94);\">Number of Combinations</h2>\n",
    "\n",
    "<hr style=\"border-top: 1px solid rgb(0, 91, 94);\" />\n",
    "\n",
    "Let us investigate the number of ways in which the lady can arrange the eight cups into two groups of four.\n",
    "\n",
    "The first group is the cups with milk first.\n",
    "\n",
    "The second group is the cups with tea first.\n",
    "\n",
    "Once we select four cups for the first group, the second group is made up of the remaining cups.\n",
    "\n",
    "So, we only really need to count how many different ways there are to select four cups from eight.\n",
    "\n",
    "<br>\n",
    "\n",
    "To begin we give each of the eight cups a label from 0 to 7.\n",
    "\n",
    "Note that the cups have no order in the experiment, we are labelling them with integers simply for convenience."
   ]
  },
  {
   "cell_type": "code",
   "execution_count": 1,
   "metadata": {},
   "outputs": [
    {
     "data": {
      "text/plain": [
       "[0, 1, 2, 3, 4, 5, 6, 7]"
      ]
     },
     "execution_count": 1,
     "metadata": {},
     "output_type": "execute_result"
    }
   ],
   "source": [
    "# The eight cups.\n",
    "cups = list(range(8))\n",
    "cups"
   ]
  },
  {
   "cell_type": "markdown",
   "metadata": {},
   "source": [
    "Suppose the subject is trying to pick the four cups with milk in first.\n",
    "\n",
    "If the subject is picking the cups randomly then they are randomly picking one of seventy different options.\n",
    "\n",
    "By randomly, we mean that they can not really tell which cups have the milk in first.\n",
    "\n",
    "Therefore they have only a probability of 1/70 of getting the right answer.\n",
    "\n",
    "The number of ways of selecting four unordered items from eight is given by the [Choose](http://mathworld.wolfram.com/Choose.html) function in mathematics."
   ]
  },
  {
   "cell_type": "code",
   "execution_count": 2,
   "metadata": {},
   "outputs": [
    {
     "data": {
      "text/plain": [
       "70.0"
      ]
     },
     "execution_count": 2,
     "metadata": {},
     "output_type": "execute_result"
    }
   ],
   "source": [
    "(8*7*6*5)/(4*3*2*1)"
   ]
  },
  {
   "cell_type": "markdown",
   "metadata": {},
   "source": [
    "These possibilities can be enumerated using the combinations function from the itertools Python package.\n",
    "\n",
    "It takes a list $l$ of items and a number $n$. It returns/generates each way of selecting $n$ unordered items from $l$."
   ]
  },
  {
   "cell_type": "code",
   "execution_count": 3,
   "metadata": {
    "scrolled": true
   },
   "outputs": [
    {
     "data": {
      "text/plain": [
       "[(0, 1, 2, 3),\n",
       " (0, 1, 2, 4),\n",
       " (0, 1, 2, 5),\n",
       " (0, 1, 2, 6),\n",
       " (0, 1, 2, 7),\n",
       " (0, 1, 3, 4),\n",
       " (0, 1, 3, 5),\n",
       " (0, 1, 3, 6),\n",
       " (0, 1, 3, 7),\n",
       " (0, 1, 4, 5),\n",
       " (0, 1, 4, 6),\n",
       " (0, 1, 4, 7),\n",
       " (0, 1, 5, 6),\n",
       " (0, 1, 5, 7),\n",
       " (0, 1, 6, 7),\n",
       " (0, 2, 3, 4),\n",
       " (0, 2, 3, 5),\n",
       " (0, 2, 3, 6),\n",
       " (0, 2, 3, 7),\n",
       " (0, 2, 4, 5),\n",
       " (0, 2, 4, 6),\n",
       " (0, 2, 4, 7),\n",
       " (0, 2, 5, 6),\n",
       " (0, 2, 5, 7),\n",
       " (0, 2, 6, 7),\n",
       " (0, 3, 4, 5),\n",
       " (0, 3, 4, 6),\n",
       " (0, 3, 4, 7),\n",
       " (0, 3, 5, 6),\n",
       " (0, 3, 5, 7),\n",
       " (0, 3, 6, 7),\n",
       " (0, 4, 5, 6),\n",
       " (0, 4, 5, 7),\n",
       " (0, 4, 6, 7),\n",
       " (0, 5, 6, 7),\n",
       " (1, 2, 3, 4),\n",
       " (1, 2, 3, 5),\n",
       " (1, 2, 3, 6),\n",
       " (1, 2, 3, 7),\n",
       " (1, 2, 4, 5),\n",
       " (1, 2, 4, 6),\n",
       " (1, 2, 4, 7),\n",
       " (1, 2, 5, 6),\n",
       " (1, 2, 5, 7),\n",
       " (1, 2, 6, 7),\n",
       " (1, 3, 4, 5),\n",
       " (1, 3, 4, 6),\n",
       " (1, 3, 4, 7),\n",
       " (1, 3, 5, 6),\n",
       " (1, 3, 5, 7),\n",
       " (1, 3, 6, 7),\n",
       " (1, 4, 5, 6),\n",
       " (1, 4, 5, 7),\n",
       " (1, 4, 6, 7),\n",
       " (1, 5, 6, 7),\n",
       " (2, 3, 4, 5),\n",
       " (2, 3, 4, 6),\n",
       " (2, 3, 4, 7),\n",
       " (2, 3, 5, 6),\n",
       " (2, 3, 5, 7),\n",
       " (2, 3, 6, 7),\n",
       " (2, 4, 5, 6),\n",
       " (2, 4, 5, 7),\n",
       " (2, 4, 6, 7),\n",
       " (2, 5, 6, 7),\n",
       " (3, 4, 5, 6),\n",
       " (3, 4, 5, 7),\n",
       " (3, 4, 6, 7),\n",
       " (3, 5, 6, 7),\n",
       " (4, 5, 6, 7)]"
      ]
     },
     "execution_count": 3,
     "metadata": {},
     "output_type": "execute_result"
    }
   ],
   "source": [
    "import itertools\n",
    "\n",
    "poss = list(itertools.combinations(cups, 4))\n",
    "poss"
   ]
  },
  {
   "cell_type": "markdown",
   "metadata": {},
   "source": [
    "<h2 style=\"color: rgb(0, 91, 94);\">Hypotheses</h2>\n",
    "\n",
    "<hr style=\"border-top: 1px solid rgb(0, 91, 94);\" />\n",
    "\n",
    "In the book, Fisher describes the *null hypothesis*.\n",
    "\n",
    "It is the statement to be countered by the experiment.\n",
    "\n",
    "In this case it is the hypothesis that the subject cannot tell the difference between a cup of tea that had milk in it first and one that had the tea in it first.\n",
    "\n",
    "<br>\n",
    "\n",
    "**Null Hypothesis:** the subject can not tell if the cup had milk in it first or last.\n",
    "\n",
    "<br>\n",
    "\n",
    "Once we collect the experimental data we evaluate how likely we were to see such data if the null hypothesis is true.\n",
    "\n",
    "If it is very unlikely, then we may reject the null hypothesis.\n",
    "\n",
    "Typically we have an alternative hypothesis that we suggest rejecting the null hypothesis is evidence for.\n",
    "\n",
    "<br>\n",
    "\n",
    "**Alternative Hypothesis:** the subject can tell.\n",
    "\n",
    "<br>\n",
    "\n",
    "Should the subject pick the correct four cups with milk in them first, there is only a 1 in 70 (~1.4%) chance of them having done that if they were simply guessing.\n",
    "\n",
    "Fisher considered that unlikely enough to reject the null hypothesis if they manage it."
   ]
  },
  {
   "cell_type": "code",
   "execution_count": 4,
   "metadata": {},
   "outputs": [
    {
     "data": {
      "text/plain": [
       "0.014285714285714285"
      ]
     },
     "execution_count": 4,
     "metadata": {},
     "output_type": "execute_result"
    }
   ],
   "source": [
    "# Only one of the 70 randomly selected possibilities is the desired result.\n",
    "1 / 70"
   ]
  },
  {
   "cell_type": "markdown",
   "metadata": {},
   "source": [
    "<h3 style=\"color: #001a79;\">Exercise</h3>\n",
    "\n",
    "<hr style=\"border-top: 1px solid #001a79;\" />\n",
    "\n",
    "<i style=\"color: #001a79;\">Remember to do these exercises in your own notebook in your assessment repository.</i>\n",
    "\n",
    "The above gives about a 1.5% chance of randomly selecting the correct cups. Calculate the minimum number of cups of tea required to ensure the probability of randomly selecting the correct cups is less than or equal to 1%.\n",
    "\n",
    "*Bonus:* How many would be required if you were to let the taster get one cup wrong while maintaining the 1% threshold?"
   ]
  },
  {
   "cell_type": "markdown",
   "metadata": {},
   "source": [
    "<h2 style=\"color: rgb(0, 91, 94);\">Distribution</h2>\n",
    "\n",
    "<hr style=\"border-top: 1px solid rgb(0, 91, 94);\" />\n",
    "\n",
    "We may be tempted to allow the possibility of rejecting the null hypothesis if the subject gets three cups right.\n",
    "\n",
    "That would be a mistake, as the following plot shows.\n",
    "\n",
    "It shows the null distribution, the number of ways of guessing for each number of correct cups.\n",
    "\n",
    "We can see from the plot that there is ~20% chance of guessing at least three correct cups.\n",
    "\n",
    "I don't think that's unlikely enough to reject the null hypothesis."
   ]
  },
  {
   "cell_type": "code",
   "execution_count": 5,
   "metadata": {},
   "outputs": [
    {
     "data": {
      "image/png": "[encoded data removed]",
      "text/plain": [
       "<Figure size 432x288 with 1 Axes>"
      ]
     },
     "metadata": {
      "needs_background": "light"
     },
     "output_type": "display_data"
    }
   ],
   "source": [
    "import random\n",
    "import seaborn as sns\n",
    "\n",
    "# Pick a random correct answer from the list of 70 to simulate the experiment.\n",
    "milkfirst = set(random.choice(poss))\n",
    "\n",
    "# Count the overlap between the correct answer, and each of the 70 possiblities.\n",
    "counts = [len(milkfirst & set(i)) for i in itertools.combinations(cups, 4)]\n",
    "\n",
    "# Creat the plot.\n",
    "sns.countplot(x=counts);"
   ]
  },
  {
   "cell_type": "markdown",
   "metadata": {},
   "source": [
    "<h3 style=\"color: #001a79;\">Exercise</h3>\n",
    "\n",
    "<hr style=\"border-top: 1px solid #001a79;\" />\n",
    "\n",
    "<i style=\"color: #001a79;\">Remember to do these exercises in your own notebook in your assessment repository.</i>\n",
    "\n",
    "Use <a href=\"https://docs.scipy.org/doc/scipy/reference/generated/scipy.stats.fisher_exact.html\" style=\"color: #ff791e\">scipy's version of Fisher's exact test</a> to simulate the Lady Tasting Tea problem."
   ]
  },
  {
   "cell_type": "markdown",
   "metadata": {},
   "source": [
    "<h2 style=\"color: rgb(0, 91, 94);\">$t$-Tests</h2>\n",
    "\n",
    "<hr style=\"border-top: 1px solid rgb(0, 91, 94);\" />\n",
    "\n",
    "\n",
    "$t$-tests are among the most common statistical tests performed in world.\n",
    "\n",
    "This notebook focuses on the practicalities of performing $t$-tests in Python.\n",
    "\n",
    "For information about the $t$-test itself, I recommend reading [Laerd Statistics's Independent t-test using SPSS Statistics](https://statistics.laerd.com/spss-tutorials/independent-t-test-using-spss-statistics.php).\n",
    "$t$-tests are among the most common statistical tests performed in world."
   ]
  },
  {
   "cell_type": "markdown",
   "metadata": {},
   "source": [
    "<h2 style=\"color: rgb(0, 91, 94);\">Packages</h2>\n",
    "\n",
    "<hr style=\"border-top: 1px solid rgb(0, 91, 94);\" />\n",
    "\n",
    "One of Python's strengths is the quality of numerical packages available."
   ]
  },
  {
   "cell_type": "code",
   "execution_count": 6,
   "metadata": {},
   "outputs": [],
   "source": [
    "# Efficient numerical arrays.\n",
    "import numpy as np\n",
    "\n",
    "# Data frames.\n",
    "import pandas as pd\n",
    "\n",
    "# Alternative statistics package.\n",
    "import statsmodels.stats.weightstats as stat\n",
    "\n",
    "# Mains statistics package.\n",
    "import scipy.stats as ss\n",
    "\n",
    "# Plotting.\n",
    "import matplotlib.pyplot as plt\n",
    "\n",
    "# Fancier plotting.\n",
    "import seaborn as sns\n",
    "\n",
    "# Better sized plots.\n",
    "plt.rcParams['figure.figsize'] = (12, 8)\n",
    "\n",
    "# Nicer colours and styles for plots.\n",
    "plt.style.use(\"ggplot\")"
   ]
  },
  {
   "cell_type": "markdown",
   "metadata": {},
   "source": [
    "<h2 style=\"color: rgb(0, 91, 94);\">Simulated Data</h2>\n",
    "\n",
    "<hr style=\"border-top: 1px solid rgb(0, 91, 94);\" />\n",
    "\n",
    "We can create fake data sets with specific properties to investigate numerical methods."
   ]
  },
  {
   "cell_type": "code",
   "execution_count": 7,
   "metadata": {},
   "outputs": [
    {
     "data": {
      "text/html": [
       "<div>\n",
       "<style scoped>\n",
       "    .dataframe tbody tr th:only-of-type {\n",
       "        vertical-align: middle;\n",
       "    }\n",
       "\n",
       "    .dataframe tbody tr th {\n",
       "        vertical-align: top;\n",
       "    }\n",
       "\n",
       "    .dataframe thead th {\n",
       "        text-align: right;\n",
       "    }\n",
       "</style>\n",
       "<table border=\"1\" class=\"dataframe\">\n",
       "  <thead>\n",
       "    <tr style=\"text-align: right;\">\n",
       "      <th></th>\n",
       "      <th>Category</th>\n",
       "      <th>Value</th>\n",
       "    </tr>\n",
       "  </thead>\n",
       "  <tbody>\n",
       "    <tr>\n",
       "      <th>0</th>\n",
       "      <td>A</td>\n",
       "      <td>0.865789</td>\n",
       "    </tr>\n",
       "    <tr>\n",
       "      <th>1</th>\n",
       "      <td>A</td>\n",
       "      <td>1.034246</td>\n",
       "    </tr>\n",
       "    <tr>\n",
       "      <th>2</th>\n",
       "      <td>A</td>\n",
       "      <td>1.023676</td>\n",
       "    </tr>\n",
       "    <tr>\n",
       "      <th>3</th>\n",
       "      <td>A</td>\n",
       "      <td>1.355676</td>\n",
       "    </tr>\n",
       "    <tr>\n",
       "      <th>4</th>\n",
       "      <td>A</td>\n",
       "      <td>1.150043</td>\n",
       "    </tr>\n",
       "    <tr>\n",
       "      <th>...</th>\n",
       "      <td>...</td>\n",
       "      <td>...</td>\n",
       "    </tr>\n",
       "    <tr>\n",
       "      <th>75</th>\n",
       "      <td>B</td>\n",
       "      <td>2.117601</td>\n",
       "    </tr>\n",
       "    <tr>\n",
       "      <th>76</th>\n",
       "      <td>B</td>\n",
       "      <td>1.417374</td>\n",
       "    </tr>\n",
       "    <tr>\n",
       "      <th>77</th>\n",
       "      <td>B</td>\n",
       "      <td>2.726594</td>\n",
       "    </tr>\n",
       "    <tr>\n",
       "      <th>78</th>\n",
       "      <td>B</td>\n",
       "      <td>2.375008</td>\n",
       "    </tr>\n",
       "    <tr>\n",
       "      <th>79</th>\n",
       "      <td>B</td>\n",
       "      <td>2.117326</td>\n",
       "    </tr>\n",
       "  </tbody>\n",
       "</table>\n",
       "<p>80 rows × 2 columns</p>\n",
       "</div>"
      ],
      "text/plain": [
       "   Category     Value\n",
       "0         A  0.865789\n",
       "1         A  1.034246\n",
       "2         A  1.023676\n",
       "3         A  1.355676\n",
       "4         A  1.150043\n",
       "..      ...       ...\n",
       "75        B  2.117601\n",
       "76        B  1.417374\n",
       "77        B  2.726594\n",
       "78        B  2.375008\n",
       "79        B  2.117326\n",
       "\n",
       "[80 rows x 2 columns]"
      ]
     },
     "execution_count": 7,
     "metadata": {},
     "output_type": "execute_result"
    }
   ],
   "source": [
    "# Parameters for two different lists of numbers.\n",
    "m_a, s_a, m_b, s_b = 1.0, 0.4, 2.0, 0.4\n",
    "# Sample size.\n",
    "N = 40\n",
    "\n",
    "# Create two lists of numbers based on bell-shaped probability curves.\n",
    "a = np.random.normal(loc=m_a, scale=s_a, size=N)\n",
    "b = np.random.normal(loc=m_b, scale=s_b, size=N)\n",
    "\n",
    "# Stick both samples in one data frame.\n",
    "df = pd.DataFrame({'Category': ['A'] * len(a) + ['B'] * len(b), 'Value': np.hstack([a,b])})\n",
    "\n",
    "# We can look directly at the list of numbers, but it's not very illuminating.\n",
    "df"
   ]
  },
  {
   "cell_type": "markdown",
   "metadata": {},
   "source": [
    "<h2 style=\"color: rgb(0, 91, 94);\">Visualisation</h2>\n",
    "\n",
    "<hr style=\"border-top: 1px solid rgb(0, 91, 94);\" />\n",
    "\n",
    "A good plot can quickly show us what the numbers look like."
   ]
  },
  {
   "cell_type": "code",
   "execution_count": 8,
   "metadata": {},
   "outputs": [
    {
     "data": {
      "image/png": "[encoded data removed]",
      "text/plain": [
       "<Figure size 360x360 with 1 Axes>"
      ]
     },
     "metadata": {},
     "output_type": "display_data"
    }
   ],
   "source": [
    "# One type of plot available in seaborn.\n",
    "sns.catplot(x='Category', y='Value', jitter=False, data=df);"
   ]
  },
  {
   "cell_type": "markdown",
   "metadata": {},
   "source": [
    "<h2 style=\"color: rgb(0, 91, 94);\">The $t$-Test</h2>\n",
    "\n",
    "\n",
    "<hr style=\"border-top: 1px solid rgb(0, 91, 94);\" />\n",
    "\n",
    "Running a t-test in Python is done with a single function call. You can use scipy or statsmodels, amongst others."
   ]
  },
  {
   "cell_type": "code",
   "execution_count": 9,
   "metadata": {},
   "outputs": [
    {
     "name": "stdout",
     "output_type": "stream",
     "text": [
      "t-value: -12.075871470459354\tp-value: 1.5481325159665117e-19\n",
      "P_scipy: 0.00\n"
     ]
    }
   ],
   "source": [
    "# The scipy.stats version.\n",
    "t_ss, p_ss = ss.ttest_ind(a, b)\n",
    "print(f\"t-value: {t_ss}\\tp-value: {p_ss}\")\n",
    "print(f\"P_scipy: {p_ss:0.2f}\")"
   ]
  },
  {
   "cell_type": "code",
   "execution_count": 10,
   "metadata": {},
   "outputs": [
    {
     "name": "stdout",
     "output_type": "stream",
     "text": [
      "t-value: -12.075871470459356\tp-value: 1.5481325159665009e-19\tDeg Free: 78.0\n",
      "P_statsmodels: 0.00\n"
     ]
    }
   ],
   "source": [
    "# The statsmodels version.\n",
    "t_sm, p_sm, d_sm = stat.ttest_ind(a, b)\n",
    "print(f\"t-value: {t_sm}\\tp-value: {p_sm}\\tDeg Free: {d_sm}\")\n",
    "print(f\"P_statsmodels: {p_sm:0.2f}\")"
   ]
  },
  {
   "cell_type": "code",
   "execution_count": 11,
   "metadata": {},
   "outputs": [
    {
     "data": {
      "text/plain": [
       "-12.075871470459356"
      ]
     },
     "execution_count": 11,
     "metadata": {},
     "output_type": "execute_result"
    }
   ],
   "source": [
    "# Calculate t statistic \"by hand\".\n",
    "# https://en.wikipedia.org/wiki/Test_statistic\n",
    "\n",
    "# Length of the arrays.\n",
    "n1 = len(a)\n",
    "n2 = len(b)\n",
    "\n",
    "# Means of the samples.\n",
    "m1 = np.sum(a) / n1\n",
    "m2 = np.sum(b) / n2\n",
    "\n",
    "# Sample standard deviations.\n",
    "s1 = np.sqrt(np.sum((a - m1)**2) / (n1 - 1))\n",
    "s2 = np.sqrt(np.sum((b - m2)**2) / (n1 - 1))\n",
    "\n",
    "df = n1 + n2 - 2\n",
    "sp2 = ((n1 - 1) * s1**2 + (n2 - 1) * s2**2) / df\n",
    "t = (m1 - m2) / (np.sqrt(sp2) * np.sqrt(1.0/n1 + 1.0/n2))\n",
    "\n",
    "t"
   ]
  },
  {
   "cell_type": "markdown",
   "metadata": {},
   "source": [
    "<h2 style=\"color: rgb(0, 91, 94);\">Populations</h2>\n",
    "\n",
    "<hr style=\"border-top: 1px solid rgb(0, 91, 94);\" />\n",
    "\n",
    "$t$-tests perform calculations on samples from two populations to test whether the populations are likely similar.\n",
    "\n",
    "In the real world, we only see the samples and we cannot see the populations."
   ]
  },
  {
   "cell_type": "code",
   "execution_count": 12,
   "metadata": {},
   "outputs": [
    {
     "data": {
      "image/png": "[encoded data removed]",
      "text/plain": [
       "<Figure size 720x432 with 1 Axes>"
      ]
     },
     "metadata": {},
     "output_type": "display_data"
    }
   ],
   "source": [
    "# Let's create a plot with the following x values.\n",
    "min_x = min(m_a, m_b) - 5.0 * max(s_a, s_b)\n",
    "max_x = max(m_a, m_b) + 5.0 * max(s_a, s_b)\n",
    "x = np.linspace(min_x, max_x, 1000)\n",
    "\n",
    "# We'll have plots of two different populations on one set of axes.\n",
    "# These are normal probability density functions.\n",
    "# See: https://en.wikipedia.org/wiki/Normal_distribution\n",
    "y_a = ss.norm.pdf(x, m_a, s_a)\n",
    "y_b = ss.norm.pdf(x, m_b, s_b)\n",
    "\n",
    "# Create and show the plot.\n",
    "fig, ax = plt.subplots(figsize=(10,6))\n",
    "ax.plot(x, y_a)\n",
    "ax.plot(x, y_b)\n",
    "plt.show()"
   ]
  },
  {
   "cell_type": "markdown",
   "metadata": {},
   "source": [
    "<h2 style=\"color: rgb(0, 91, 94);\">Critical Value</h2>\n",
    "\n",
    "<hr style=\"border-top: 1px solid rgb(0, 91, 94);\" />\n",
    "\n",
    "The critical value is used to make a decision regarding the calculation of the $t$ statistic from the samples.\n",
    "\n",
    "If the probability of seeing such a $t$ value given the hypothesis that there is no difference between the means is low, then data is suggesting that you should reject that hypothesis."
   ]
  },
  {
   "cell_type": "code",
   "execution_count": 13,
   "metadata": {},
   "outputs": [
    {
     "data": {
      "image/png": "[encoded data removed]",
      "text/plain": [
       "<Figure size 720x432 with 1 Axes>"
      ]
     },
     "metadata": {},
     "output_type": "display_data"
    }
   ],
   "source": [
    "# The critical probability value.\n",
    "critical = 0.05\n",
    "\n",
    "# Create the figure.\n",
    "fig, ax = plt.subplots(figsize=(10,6))\n",
    "\n",
    "# A range of x-values - these represent the t statistic.\n",
    "min_x = -5.0\n",
    "max_x = 5.0\n",
    "x = np.linspace(min_x, max_x, 1000)\n",
    "\n",
    "# The probability density function of the t statistic.\n",
    "# Here we use the degrees of freedom from above.\n",
    "t = ss.t.pdf(x, d_sm)\n",
    "# Plot it.\n",
    "ax.plot(x, t, color='red')\n",
    "\n",
    "# Get the tails.\n",
    "tf = pd.DataFrame({'x': x, 't': t})\n",
    "tcrit = abs(ss.t.ppf(critical / 2.0, d_sm))\n",
    "tail_one = tf[tf['x'] >= tcrit]\n",
    "tail_two = tf[tf['x'] <= -tcrit]\n",
    "# Plot them.\n",
    "ax.fill_between(tail_one['x'], tail_one['t'], 0, facecolor=\"red\")\n",
    "ax.fill_between(tail_two['x'], tail_two['t'], 0, facecolor=\"red\")\n",
    "\n",
    "plt.show()"
   ]
  },
  {
   "cell_type": "markdown",
   "metadata": {},
   "source": [
    "<h2 style=\"color: rgb(0, 91, 94);\">Type I errors - False Positives</h2>\n",
    "\n",
    "<hr style=\"border-top: 1px solid rgb(0, 91, 94);\" />"
   ]
  },
  {
   "cell_type": "code",
   "execution_count": 14,
   "metadata": {},
   "outputs": [
    {
     "name": "stdout",
     "output_type": "stream",
     "text": [
      "5.34%\n"
     ]
    }
   ],
   "source": [
    "# Let's run 10000 t-tests where the population means are equal.\n",
    "# We should make the wrong decision (reject the hypothesis) (100 * critical) percent of the time.\n",
    "\n",
    "# The number of trials to run.\n",
    "trials = 10000\n",
    "# The number of values in each sample.\n",
    "N = 100\n",
    "# Population 1 mean, population 2 mean, standard deviation in both.\n",
    "mean1, mean2, stddev = 2.0, 2.0, 0.3\n",
    "# Critical probability value.\n",
    "critical = 0.05\n",
    "\n",
    "# Running total of type I errors commited.\n",
    "rejects = 0\n",
    "\n",
    "# Loop throguh trials.\n",
    "for i in range(trials):\n",
    "    # Generate sample 1.\n",
    "    sample1 = np.random.normal(loc=mean1, scale=stddev, size=N)\n",
    "    # Generate sample 2.\n",
    "    sample2 = np.random.normal(loc=mean2, scale=stddev, size=N)\n",
    "    # Run the t-test.\n",
    "    t, p = ss.ttest_ind(sample1, sample2)\n",
    "    # If p is less than critical, reject.\n",
    "    if p <= critical:\n",
    "        rejects = rejects + 1\n",
    "\n",
    "# Print results.\n",
    "typei = 100.0 * (rejects / trials)\n",
    "print(f\"{typei:0.2f}%\")"
   ]
  },
  {
   "cell_type": "markdown",
   "metadata": {},
   "source": [
    "<h2 style=\"color: rgb(0, 91, 94);\">Type II errors - False Negatives</h2>\n",
    "\n",
    "<hr style=\"border-top: 1px solid rgb(0, 91, 94);\" />\n",
    "\n",
    "The chance of a false negative is harder to quantify.\n",
    "\n",
    "It depends on how close the means are."
   ]
  },
  {
   "cell_type": "code",
   "execution_count": 15,
   "metadata": {},
   "outputs": [
    {
     "name": "stdout",
     "output_type": "stream",
     "text": [
      "34.98%\n"
     ]
    }
   ],
   "source": [
    "# Let's run 10000 t-tests where the population means are NOT equal.\n",
    "# How often will we not reject the hypothesis?\n",
    "\n",
    "# The number of trials to run.\n",
    "trials = 10000\n",
    "# The number of values in each sample.\n",
    "N = 100\n",
    "# Population 1 mean, population 2 mean, standard deviation in both.\n",
    "mean1, mean2, stddev = 2.0, 2.1, 0.3\n",
    "# Critical probability value.\n",
    "critical = 0.05\n",
    "\n",
    "# Running total of type I errors commited.\n",
    "notrejects = 0\n",
    "\n",
    "# Loop throguh trials.\n",
    "for i in range(trials):\n",
    "    # Generate sample 1.\n",
    "    sample1 = np.random.normal(loc=mean1, scale=stddev, size=N)\n",
    "    # Generate sample 2.\n",
    "    sample2 = np.random.normal(loc=mean2, scale=stddev, size=N)\n",
    "    # Run the t-test.\n",
    "    t, p = ss.ttest_ind(sample1, sample2)\n",
    "    # If p is greater than critical, do not reject.\n",
    "    if p > critical:\n",
    "        notrejects = notrejects + 1\n",
    "\n",
    "# Print results.\n",
    "typeii = 100.0 * (notrejects / trials)\n",
    "print(f\"{typeii:0.2f}%\")"
   ]
  },
  {
   "cell_type": "markdown",
   "metadata": {},
   "source": [
    "<h2 style=\"color: rgb(0, 91, 94);\">Paired Samples</h2>\n",
    "\n",
    "<hr style=\"border-top: 1px solid rgb(0, 91, 94);\" />\n",
    "\n",
    "Here we try a slightly different $t$ test - one based on repeated measures.\n",
    "\n",
    "*References for this section:*\n",
    "\n",
    "[Vincent Arel-Bundock's R datasets list](https://vincentarelbundock.github.io/Rdatasets/articles/data.html)\n",
    "\n",
    "[t-test: Comparing Group Means](https://uc-r.github.io/t_test)"
   ]
  },
  {
   "cell_type": "code",
   "execution_count": 16,
   "metadata": {},
   "outputs": [
    {
     "data": {
      "text/html": [
       "<div>\n",
       "<style scoped>\n",
       "    .dataframe tbody tr th:only-of-type {\n",
       "        vertical-align: middle;\n",
       "    }\n",
       "\n",
       "    .dataframe tbody tr th {\n",
       "        vertical-align: top;\n",
       "    }\n",
       "\n",
       "    .dataframe thead th {\n",
       "        text-align: right;\n",
       "    }\n",
       "</style>\n",
       "<table border=\"1\" class=\"dataframe\">\n",
       "  <thead>\n",
       "    <tr style=\"text-align: right;\">\n",
       "      <th></th>\n",
       "      <th>Unnamed: 0</th>\n",
       "      <th>extra</th>\n",
       "      <th>group</th>\n",
       "      <th>ID</th>\n",
       "    </tr>\n",
       "  </thead>\n",
       "  <tbody>\n",
       "    <tr>\n",
       "      <th>0</th>\n",
       "      <td>1</td>\n",
       "      <td>0.7</td>\n",
       "      <td>1</td>\n",
       "      <td>1</td>\n",
       "    </tr>\n",
       "    <tr>\n",
       "      <th>1</th>\n",
       "      <td>2</td>\n",
       "      <td>-1.6</td>\n",
       "      <td>1</td>\n",
       "      <td>2</td>\n",
       "    </tr>\n",
       "    <tr>\n",
       "      <th>2</th>\n",
       "      <td>3</td>\n",
       "      <td>-0.2</td>\n",
       "      <td>1</td>\n",
       "      <td>3</td>\n",
       "    </tr>\n",
       "    <tr>\n",
       "      <th>3</th>\n",
       "      <td>4</td>\n",
       "      <td>-1.2</td>\n",
       "      <td>1</td>\n",
       "      <td>4</td>\n",
       "    </tr>\n",
       "    <tr>\n",
       "      <th>4</th>\n",
       "      <td>5</td>\n",
       "      <td>-0.1</td>\n",
       "      <td>1</td>\n",
       "      <td>5</td>\n",
       "    </tr>\n",
       "    <tr>\n",
       "      <th>5</th>\n",
       "      <td>6</td>\n",
       "      <td>3.4</td>\n",
       "      <td>1</td>\n",
       "      <td>6</td>\n",
       "    </tr>\n",
       "    <tr>\n",
       "      <th>6</th>\n",
       "      <td>7</td>\n",
       "      <td>3.7</td>\n",
       "      <td>1</td>\n",
       "      <td>7</td>\n",
       "    </tr>\n",
       "    <tr>\n",
       "      <th>7</th>\n",
       "      <td>8</td>\n",
       "      <td>0.8</td>\n",
       "      <td>1</td>\n",
       "      <td>8</td>\n",
       "    </tr>\n",
       "    <tr>\n",
       "      <th>8</th>\n",
       "      <td>9</td>\n",
       "      <td>0.0</td>\n",
       "      <td>1</td>\n",
       "      <td>9</td>\n",
       "    </tr>\n",
       "    <tr>\n",
       "      <th>9</th>\n",
       "      <td>10</td>\n",
       "      <td>2.0</td>\n",
       "      <td>1</td>\n",
       "      <td>10</td>\n",
       "    </tr>\n",
       "    <tr>\n",
       "      <th>10</th>\n",
       "      <td>11</td>\n",
       "      <td>1.9</td>\n",
       "      <td>2</td>\n",
       "      <td>1</td>\n",
       "    </tr>\n",
       "    <tr>\n",
       "      <th>11</th>\n",
       "      <td>12</td>\n",
       "      <td>0.8</td>\n",
       "      <td>2</td>\n",
       "      <td>2</td>\n",
       "    </tr>\n",
       "    <tr>\n",
       "      <th>12</th>\n",
       "      <td>13</td>\n",
       "      <td>1.1</td>\n",
       "      <td>2</td>\n",
       "      <td>3</td>\n",
       "    </tr>\n",
       "    <tr>\n",
       "      <th>13</th>\n",
       "      <td>14</td>\n",
       "      <td>0.1</td>\n",
       "      <td>2</td>\n",
       "      <td>4</td>\n",
       "    </tr>\n",
       "    <tr>\n",
       "      <th>14</th>\n",
       "      <td>15</td>\n",
       "      <td>-0.1</td>\n",
       "      <td>2</td>\n",
       "      <td>5</td>\n",
       "    </tr>\n",
       "    <tr>\n",
       "      <th>15</th>\n",
       "      <td>16</td>\n",
       "      <td>4.4</td>\n",
       "      <td>2</td>\n",
       "      <td>6</td>\n",
       "    </tr>\n",
       "    <tr>\n",
       "      <th>16</th>\n",
       "      <td>17</td>\n",
       "      <td>5.5</td>\n",
       "      <td>2</td>\n",
       "      <td>7</td>\n",
       "    </tr>\n",
       "    <tr>\n",
       "      <th>17</th>\n",
       "      <td>18</td>\n",
       "      <td>1.6</td>\n",
       "      <td>2</td>\n",
       "      <td>8</td>\n",
       "    </tr>\n",
       "    <tr>\n",
       "      <th>18</th>\n",
       "      <td>19</td>\n",
       "      <td>4.6</td>\n",
       "      <td>2</td>\n",
       "      <td>9</td>\n",
       "    </tr>\n",
       "    <tr>\n",
       "      <th>19</th>\n",
       "      <td>20</td>\n",
       "      <td>3.4</td>\n",
       "      <td>2</td>\n",
       "      <td>10</td>\n",
       "    </tr>\n",
       "  </tbody>\n",
       "</table>\n",
       "</div>"
      ],
      "text/plain": [
       "    Unnamed: 0  extra  group  ID\n",
       "0            1    0.7      1   1\n",
       "1            2   -1.6      1   2\n",
       "2            3   -0.2      1   3\n",
       "3            4   -1.2      1   4\n",
       "4            5   -0.1      1   5\n",
       "5            6    3.4      1   6\n",
       "6            7    3.7      1   7\n",
       "7            8    0.8      1   8\n",
       "8            9    0.0      1   9\n",
       "9           10    2.0      1  10\n",
       "10          11    1.9      2   1\n",
       "11          12    0.8      2   2\n",
       "12          13    1.1      2   3\n",
       "13          14    0.1      2   4\n",
       "14          15   -0.1      2   5\n",
       "15          16    4.4      2   6\n",
       "16          17    5.5      2   7\n",
       "17          18    1.6      2   8\n",
       "18          19    4.6      2   9\n",
       "19          20    3.4      2  10"
      ]
     },
     "execution_count": 16,
     "metadata": {},
     "output_type": "execute_result"
    }
   ],
   "source": [
    "dfsleep = pd.read_csv(\"https://vincentarelbundock.github.io/Rdatasets/csv/datasets/sleep.csv\")\n",
    "dfsleep"
   ]
  },
  {
   "cell_type": "code",
   "execution_count": 17,
   "metadata": {},
   "outputs": [
    {
     "data": {
      "text/plain": [
       "array([ 0.7, -1.6, -0.2, -1.2, -0.1,  3.4,  3.7,  0.8,  0. ,  2. ])"
      ]
     },
     "execution_count": 17,
     "metadata": {},
     "output_type": "execute_result"
    }
   ],
   "source": [
    "# Extract the first sample from the data set.\n",
    "drugA = dfsleep[dfsleep[\"group\"] == 1]\n",
    "drugA = drugA.sort_values(\"ID\")\n",
    "drugA = drugA[\"extra\"].to_numpy()\n",
    "drugA"
   ]
  },
  {
   "cell_type": "code",
   "execution_count": 18,
   "metadata": {},
   "outputs": [
    {
     "data": {
      "text/plain": [
       "array([ 1.9,  0.8,  1.1,  0.1, -0.1,  4.4,  5.5,  1.6,  4.6,  3.4])"
      ]
     },
     "execution_count": 18,
     "metadata": {},
     "output_type": "execute_result"
    }
   ],
   "source": [
    "# Extract the second sample from the data set.\n",
    "drugB = dfsleep[dfsleep[\"group\"] == 2]\n",
    "drugB = drugB.sort_values(\"ID\")\n",
    "drugB = drugB[\"extra\"].to_numpy()\n",
    "drugB"
   ]
  },
  {
   "cell_type": "code",
   "execution_count": 19,
   "metadata": {},
   "outputs": [
    {
     "data": {
      "text/plain": [
       "Ttest_relResult(statistic=-4.062127683382037, pvalue=0.00283289019738427)"
      ]
     },
     "execution_count": 19,
     "metadata": {},
     "output_type": "execute_result"
    }
   ],
   "source": [
    "# Run a paired samples t-test.\n",
    "ss.ttest_rel(drugA, drugB)"
   ]
  },
  {
   "cell_type": "code",
   "execution_count": 20,
   "metadata": {},
   "outputs": [
    {
     "data": {
      "text/plain": [
       "Ttest_1sampResult(statistic=4.062127683382037, pvalue=0.00283289019738427)"
      ]
     },
     "execution_count": 20,
     "metadata": {},
     "output_type": "execute_result"
    }
   ],
   "source": [
    "# In one way, this is equivalent to a one sample t-test.\n",
    "ss.ttest_1samp(drugB - drugA, 0)"
   ]
  },
  {
   "cell_type": "code",
   "execution_count": 21,
   "metadata": {},
   "outputs": [
    {
     "data": {
      "text/plain": [
       "(4.062127683382037, 0.00283289019738427, 9.0)"
      ]
     },
     "execution_count": 21,
     "metadata": {},
     "output_type": "execute_result"
    }
   ],
   "source": [
    "# That's how statsmodels suggests you do the test.\n",
    "stat.DescrStatsW(drugB - drugA).ttest_mean(0)"
   ]
  },
  {
   "cell_type": "markdown",
   "metadata": {},
   "source": [
    "<h2 style=\"color: rgb(0, 91, 94);\">Problems with multiple $t$-tests</h2>\n",
    "\n",
    "<hr style=\"border-top: 1px solid rgb(0, 91, 94);\" />\n",
    "\n",
    "Suppose we want to compare three groups. The null hypothesis is that the population means are all equal. Can three $t$ tests be run in parallel?"
   ]
  },
  {
   "cell_type": "code",
   "execution_count": 22,
   "metadata": {},
   "outputs": [
    {
     "data": {
      "image/png": "[encoded data removed]",
      "text/plain": [
       "<Figure size 360x360 with 1 Axes>"
      ]
     },
     "metadata": {},
     "output_type": "display_data"
    }
   ],
   "source": [
    "# Size of each sample.\n",
    "N = 100\n",
    "\n",
    "# Create three samples.\n",
    "sampA = np.random.normal(1.0, 0.2, N)\n",
    "sampB = np.random.normal(1.0, 0.2, N)\n",
    "sampC = np.random.normal(2.0, 0.2, N)\n",
    "\n",
    "# Put samples in a single data frame.\n",
    "sample = ['A'] * N + ['B'] * N + ['C'] * N\n",
    "values = np.hstack([sampA, sampB, sampC])\n",
    "dfsamps = pd.DataFrame({'Sample': sample, 'Value': values})\n",
    "\n",
    "# Visualise samples.\n",
    "sns.catplot(x='Sample', y='Value', jitter=False, data=dfsamps);"
   ]
  },
  {
   "cell_type": "code",
   "execution_count": 23,
   "metadata": {},
   "outputs": [
    {
     "name": "stdout",
     "output_type": "stream",
     "text": [
      "p_AB: 0.24\tp_AC: 0.00\tp_BC: 0.00\n"
     ]
    }
   ],
   "source": [
    "# t-Tests - one for each pair.\n",
    "t_AB, p_AB = ss.ttest_ind(sampA, sampB)\n",
    "t_AC, p_AC = ss.ttest_ind(sampA, sampC)\n",
    "t_BC, p_BC = ss.ttest_ind(sampB, sampC)\n",
    "\n",
    "print(f\"p_AB: {p_AB:.2f}\\tp_AC: {p_AC:.2f}\\tp_BC: {p_BC:.2f}\")"
   ]
  },
  {
   "cell_type": "code",
   "execution_count": 24,
   "metadata": {},
   "outputs": [
    {
     "name": "stdout",
     "output_type": "stream",
     "text": [
      "12.27%\n"
     ]
    }
   ],
   "source": [
    "# Let's run 10000 t-tests where the population means are equal.\n",
    "# We should make the wrong decision (reject the hypothesis) (100 * critical) percent of the time.\n",
    "# We expect to incorrectly reject the null hypothesis 5% of the time.\n",
    "\n",
    "# The number of trials to run.\n",
    "trials = 10000\n",
    "# The number of values in each sample.\n",
    "N = 100\n",
    "# Population 1 mean, population 2 mean, population 3 mean, standard deviation in both.\n",
    "mean1, mean2, mean3, stddev = 2.0, 2.0, 2.0, 0.3\n",
    "# Critical probability value.\n",
    "critical = 0.05\n",
    "\n",
    "# Running total of type I errors commited.\n",
    "rejects = 0\n",
    "\n",
    "# Loop throguh trials.\n",
    "for i in range(trials):\n",
    "    # Generate sample 1.\n",
    "    sample1 = np.random.normal(loc=mean1, scale=stddev, size=N)\n",
    "    # Generate sample 2.\n",
    "    sample2 = np.random.normal(loc=mean2, scale=stddev, size=N)\n",
    "    # Generate sample 3.\n",
    "    sample3 = np.random.normal(loc=mean3, scale=stddev, size=N)\n",
    "    # Run the t-tests.\n",
    "    t1, p1 = ss.ttest_ind(sample1, sample2)\n",
    "    t2, p2 = ss.ttest_ind(sample1, sample3)\n",
    "    t3, p3 = ss.ttest_ind(sample2, sample3)\n",
    "    # If any is less than critical, reject.\n",
    "    if p1 <= critical or p2 <= critical or p3 <= critical:\n",
    "        rejects = rejects + 1\n",
    "\n",
    "# Print results.\n",
    "typei = 100.0 * (rejects / trials)\n",
    "print(f\"{typei:0.2f}%\")"
   ]
  },
  {
   "cell_type": "markdown",
   "metadata": {},
   "source": [
    "<h2 style=\"color: rgb(0, 91, 94);\">Analaysis of Variance (ANOVA)</h2>\n",
    "\n",
    "<hr style=\"border-top: 1px solid rgb(0, 91, 94);\" />\n",
    "\n",
    "ANOVA can be used to avoid a higher Type I error rate.\n"
   ]
  },
  {
   "cell_type": "code",
   "execution_count": 25,
   "metadata": {},
   "outputs": [
    {
     "name": "stdout",
     "output_type": "stream",
     "text": [
      "F:629.05 P:0.00\n"
     ]
    }
   ],
   "source": [
    "# https://docs.scipy.org/doc/scipy/reference/generated/scipy.stats.f_oneway.html\n",
    "F, P = ss.f_oneway(sampA, sampB, sampC)\n",
    "print(f\"F:{F:.2f} P:{P:.2f}\")"
   ]
  },
  {
   "cell_type": "code",
   "execution_count": 26,
   "metadata": {},
   "outputs": [
    {
     "name": "stdout",
     "output_type": "stream",
     "text": [
      "5.04%\n"
     ]
    }
   ],
   "source": [
    "# Let's run 10000 ANOVAs where the population means are equal.\n",
    "# We should make the wrong decision (reject the hypothesis) (100 * critical) percent of the time.\n",
    "# We expect to incorrectly reject the null hypothesis 5% of the time.\n",
    "\n",
    "# The number of trials to run.\n",
    "trials = 10000\n",
    "# The number of values in each sample.\n",
    "N = 100\n",
    "# Population 1 mean, population 2 mean, population 3 mean, standard deviation in both.\n",
    "mean1, mean2, mean3, stddev = 2.0, 2.0, 2.0, 0.3\n",
    "# Critical probability value.\n",
    "critical = 0.05\n",
    "\n",
    "# Running total of type I errors commited.\n",
    "rejects = 0\n",
    "\n",
    "# Loop throguh trials.\n",
    "for i in range(trials):\n",
    "    # Generate sample 1.\n",
    "    sample1 = np.random.normal(loc=mean1, scale=stddev, size=N)\n",
    "    # Generate sample 2.\n",
    "    sample2 = np.random.normal(loc=mean2, scale=stddev, size=N)\n",
    "    # Generate sample 3.\n",
    "    sample3 = np.random.normal(loc=mean3, scale=stddev, size=N)\n",
    "    # Run the test.\n",
    "    F, p = ss.f_oneway(sample1, sample2, sample3)\n",
    "    # If any is less than critical, reject.\n",
    "    if p <= critical:\n",
    "        rejects = rejects + 1\n",
    "\n",
    "# Print results.\n",
    "typei = 100.0 * (rejects / trials)\n",
    "print(f\"{typei:0.2f}%\")"
   ]
  },
  {
   "cell_type": "markdown",
   "metadata": {},
   "source": [
    "<h3 style=\"color: #001a79;\">Exercise</h3>\n",
    "\n",
    "<hr style=\"border-top: 1px solid #001a79;\" />\n",
    "\n",
    "<i style=\"color: #001a79;\">Remember to do these exercises in your own notebook in your assessment repository.</i>\n",
    "\n",
    "Take the code from the <a href=\"https://docs.scipy.org/doc/scipy/reference/generated/scipy.stats.ttest_ind.html\" style=\"color: #ff791e\">Examples section of the scipy stats documentation for independent samples t-tests</a>, add it to your own notebook and add explain how it works using MarkDown cells and code comments. Improve it in any way you think it could be improved."
   ]
  },
  {
   "cell_type": "markdown",
   "metadata": {},
   "source": [
    "<hr style=\"border-top: 1px solid rgb(0, 91, 94);\" />\n",
    "\n",
    "<h2 style=\"color: rgb(0, 91, 94);\">End</h2>"
   ]
  }
 ],
 "metadata": {
  "kernelspec": {
   "display_name": "Python 3 (ipykernel)",
   "language": "python",
   "name": "python3"
  },
  "language_info": {
   "codemirror_mode": {
    "name": "ipython",
    "version": 3
   },
   "file_extension": ".py",
   "mimetype": "text/x-python",
   "name": "python",
   "nbconvert_exporter": "python",
   "pygments_lexer": "ipython3",
   "version": "3.9.7"
  }
 },
 "nbformat": 4,
 "nbformat_minor": 4
}
